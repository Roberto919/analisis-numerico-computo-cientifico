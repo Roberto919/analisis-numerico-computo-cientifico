{
 "cells": [
  {
   "cell_type": "markdown",
   "metadata": {},
   "source": [
    "(EJUCOINTCIECOPI)="
   ]
  },
  {
   "cell_type": "markdown",
   "metadata": {},
   "source": [
    "# 3.3 Ejemplos de problemas UCO, introducción a *Constrained Inequality and Equality Optimization* (CIEO) y puntos interiores"
   ]
  },
  {
   "cell_type": "markdown",
   "metadata": {},
   "source": [
    "**Notas para contenedor de docker:**\n",
    "\n",
    "Comando de docker para ejecución de la nota de forma local:\n",
    "\n",
    "nota: cambiar `<ruta a mi directorio>` por la ruta de directorio que se desea mapear a `/datos` dentro del contenedor de docker.\n",
    "\n",
    "`docker run --rm -v <ruta a mi directorio>:/datos --name jupyterlab_optimizacion -p 8888:8888 -d palmoreck/jupyterlab_optimizacion:2.1.4`\n",
    "\n",
    "password para jupyterlab: `qwerty`\n",
    "\n",
    "Detener el contenedor de docker:\n",
    "\n",
    "`docker stop jupyterlab_optimizacion`\n",
    "\n",
    "Documentación de la imagen de docker `palmoreck/jupyterlab_optimizacion:2.1.4` en [liga](https://github.com/palmoreck/dockerfiles/tree/master/jupyterlab/optimizacion).\n",
    "\n"
   ]
  },
  {
   "cell_type": "markdown",
   "metadata": {},
   "source": [
    "---"
   ]
  },
  {
   "cell_type": "markdown",
   "metadata": {},
   "source": [
    "Nota generada a partir de [liga1](https://www.dropbox.com/s/6isby5h1e5f2yzs/4.2.Problemas_de_optimizacion_convexa.pdf?dl=0), [liga2](https://drive.google.com/file/d/1zCIHNAxe5Shc36Qo0XjehHgwrafKSJ_t/view), [liga3](https://drive.google.com/file/d/1oulU1QAKyLyYrkpJBLSPlbWnKFCWpllX/view), [liga4](https://drive.google.com/file/d/1RMwUXEN_SOHKue-J9Cx3Ldvj9bejLjiM/view)."
   ]
  },
  {
   "cell_type": "markdown",
   "metadata": {},
   "source": [
    "**Al final de esta nota el y la lectora:**\n",
    "\n",
    "\n",
    "* Relacionará las definiciones revisadas en la nota sobre {ref}`definición de problemas de optimización, conjuntos y funciones convexas <DPOCFC>` y los algoritmos en {ref}`algoritmos de descenso y búsqueda de línea en UCO <ADBLUCO>` con modelos ampliamente utilizados en *Machine Learning*.\n",
    "\n",
    "* Aprenderá las condiciones que puntos óptimos en un problema estándar de optimización general deben satisfacer, *aka* condiciones de Karush-Kuhn-Tucker de optimalidad, en una forma introductoria y la definición de la función Lagrangiana.\n",
    "\n",
    "* Aprenderá una idea general sobre los métodos de puntos interiores, en específico los de la clase primal-dual para resolver problemas de programación lineal. \n",
    "\n"
   ]
  },
  {
   "cell_type": "markdown",
   "metadata": {},
   "source": [
    "## Mínimos cuadrados"
   ]
  },
  {
   "cell_type": "markdown",
   "metadata": {},
   "source": [
    "Obsérvese que hay una gran cantidad de modelos por mínimos cuadrados, por ejemplo:\n",
    "\n",
    "* [Lineales](https://en.wikipedia.org/wiki/Linear_least_squares) u [ordinarios](https://en.wikipedia.org/wiki/Ordinary_least_squares) (nombre más usado en Estadística y Econometría).\n",
    "\n",
    "* [Generalizados](https://en.wikipedia.org/wiki/Generalized_least_squares), [ponderados](https://en.wikipedia.org/wiki/Weighted_least_squares).\n",
    "\n",
    "* [No lineales](https://en.wikipedia.org/wiki/Non-linear_least_squares).\n",
    "\n",
    "* [Totales](https://en.wikipedia.org/wiki/Total_least_squares) y [parciales](https://en.wikipedia.org/wiki/Partial_least_squares_regression).\n",
    "\n",
    "* [No negativos](https://en.wikipedia.org/wiki/Non-negative_least_squares).\n",
    "\n",
    "* [Rango reducido](https://epubs.siam.org/doi/abs/10.1137/1.9780898718867.ch7).\n"
   ]
  },
  {
   "cell_type": "markdown",
   "metadata": {},
   "source": [
    "## Mínimos cuadrados lineales"
   ]
  },
  {
   "cell_type": "markdown",
   "metadata": {},
   "source": [
    "Se **asume** en esta sección que $A \\in \\mathbb{R}^{m \\times n}$ con $m \\geq n$ (más renglones que columnas en $A$).\n"
   ]
  },
  {
   "cell_type": "markdown",
   "metadata": {},
   "source": [
    "Cada uno de los modelos anteriores tienen diversas aplicaciones y propósitos. Los lineales son un caso particular del problema más general de **aproximación por normas**:\n",
    "\n",
    "$$\\displaystyle \\min_{x \\in \\mathbb{R}^n} ||Ax-b||$$\n",
    "\n",
    "donde: $A \\in \\mathbb{R}^{m \\times n}$, $b \\in \\mathbb{R}^m$ son datos del problema, $x \\in \\mathbb{R}^n$ es la variable de optimización y $|| \\cdot||$ es una norma en $\\mathbb{R}^m$. \n",
    "\n"
   ]
  },
  {
   "cell_type": "markdown",
   "metadata": {},
   "source": [
    "**Definiciones**\n",
    "\n",
    "$x^* = \\text{argmin}_{x \\in \\mathbb{R}^n} ||Ax-b||$ se le nombra **solución aproximada** de $Ax \\approx b$ en la norma $|| \\cdot ||$.\n",
    "\n",
    "El vector: $r(x) = Ax -b$ se le nombra **residual** del problema.\n",
    "\n"
   ]
  },
  {
   "cell_type": "markdown",
   "metadata": {},
   "source": [
    "**Comentario**\n",
    "\n",
    "El problema de aproximación por normas también se le nombra **problema de regresión**. En este contexto, las componentes de $x$ son nombradas variables regresoras, las columnas de $A$ es un vector de *features* o atributos y el vector $\\displaystyle \\sum_{j=1}^n x_j^*a_j$ con $x^*$ óptimo del problema es nombrado la **regresión de $b$ sobre las regresoras**, $b$ es la **respuesta.**\n",
    "\n"
   ]
  },
  {
   "cell_type": "markdown",
   "metadata": {},
   "source": [
    "Si en el problema de aproximación de normas anterior se utiliza la norma Euclidiana o norma $2$, $|| \\cdot ||_2$, y se eleva al cuadrado la función objetivo se tiene:\n",
    "\n",
    "$$\\displaystyle \\min_{x \\in \\mathbb{R}^n} ||Ax-b||^2_2$$\n",
    "\n",
    "que es el modelo por mínimos cuadrados lineales cuyo objetivo es minimizar la suma de cuadrados de las componentes del residual $r(x)$.\n"
   ]
  },
  {
   "cell_type": "markdown",
   "metadata": {},
   "source": [
    "**A partir de aquí, la variable de optimización será $\\beta$ y no $x$** de modo que el problema es:"
   ]
  },
  {
   "cell_type": "markdown",
   "metadata": {},
   "source": [
    "$$\\displaystyle \\min_{\\beta \\in \\mathbb{R}^n} ||A\\beta-y||$$\n"
   ]
  },
  {
   "cell_type": "markdown",
   "metadata": {},
   "source": [
    "Supóngase que se han realizado mediciones de un fenómeno de interés en diferentes puntos $x_i$'s resultando en cantidades $y_i$'s $\\forall i=0,1,\\dots, m$ (se tienen $m+1$ puntos) y además las $y_i$'s contienen un ruido aleatorio causado por errores de medición:"
   ]
  },
  {
   "cell_type": "markdown",
   "metadata": {},
   "source": [
    "<img src=\"https://dl.dropboxusercontent.com/s/iydpi0m8ndqzb0s/mcuadrados_1.jpg?dl=0\" heigth=\"350\" width=\"350\">\n"
   ]
  },
  {
   "cell_type": "markdown",
   "metadata": {},
   "source": [
    "El objetivo de los mínimos cuadrados es construir una curva, $f(x|\\beta)$ que \"mejor\" se ajuste a los datos $(x_i,y_i)$, $\\forall i=0,1,\\dots,m$. El término de \"mejor\" se refiere a que la suma: \n",
    "\n",
    "$$\\displaystyle \\sum_{i=0}^m (y_i -f(x_i|\\beta))^2$$ \n",
    "\n",
    "\n",
    "sea lo \"más pequeña posible\", esto es, a que la suma de las distancias verticales entre $y_i$ y $f(x_i|\\beta)$ $\\forall i=0,1,\\dots,m$ al cuadrado sea mínima. Por ejemplo:"
   ]
  },
  {
   "cell_type": "markdown",
   "metadata": {},
   "source": [
    "<img src=\"https://dl.dropboxusercontent.com/s/0dhzv336jj6ep4z/mcuadrados_2.jpg?dl=0\" heigth=\"350\" width=\"350\">\n"
   ]
  },
  {
   "cell_type": "markdown",
   "metadata": {},
   "source": [
    "**Observación**\n",
    "\n",
    "\n",
    "La notación $f(x|\\beta)$ se utiliza para denotar que $\\beta$ es un vector de parámetros a estimar, en específico $\\beta_0, \\beta_1, \\dots \\beta_n$, esto es: $n+1$ parámetros a estimar.\n",
    "\n"
   ]
  },
  {
   "cell_type": "markdown",
   "metadata": {},
   "source": [
    "### Modelo en mínimos cuadrados lineales"
   ]
  },
  {
   "cell_type": "markdown",
   "metadata": {},
   "source": [
    "En los mínimos cuadrados lineales se asume un modelo:  \n",
    "\n",
    "$$f(x|\\beta) = \\displaystyle \\sum_{j=0}^n\\beta_j\\phi_j(x)$$\n",
    "\n",
    "con $\\phi_j: \\mathbb{R} \\rightarrow \\mathbb{R}$ funciones conocidas por lo que se tiene una gran flexibilidad para el proceso de ajuste. Con las funciones $\\phi_j (\\cdot)$ se construye a la matriz $A$."
   ]
  },
  {
   "cell_type": "markdown",
   "metadata": {},
   "source": [
    "**Observación**\n",
    "\n",
    "\n",
    "Si $n=m$ entonces se tiene un problema de interpolación.\n"
   ]
  },
  {
   "cell_type": "markdown",
   "metadata": {},
   "source": [
    "Si $m=3$ y $A \\in \\mathbb{R}^{3 \\times 2}$ geométricamente el problema de **mínimos cuadrados lineales** se puede visualizar con el siguiente dibujo:"
   ]
  },
  {
   "cell_type": "markdown",
   "metadata": {},
   "source": [
    "<img src=\"https://dl.dropboxusercontent.com/s/a6pjx0pdqa3cp60/mc_beta.png?dl=0\" heigth=\"400\" width=\"400\">\n"
   ]
  },
  {
   "cell_type": "markdown",
   "metadata": {},
   "source": [
    "En el dibujo anterior:\n",
    "\n",
    "* $r(\\beta) = y-A\\beta$,\n",
    "\n",
    "* el vector $y \\in \\mathbb{R}^m$ contiene las entradas $y_i$'s,\n",
    "\n",
    "* la matriz $A \\in \\mathbb{R}^{m \\times n}$ contiene a las entradas $x_i$'s o funciones de éstas $\\forall i=0,1,\\dots,m$.\n",
    "\n",
    "Por el dibujo se tiene que cumplir que $A^Tr(\\beta)=0$, esto es: las columnas de $A$ son ortogonales a $r(\\beta)$. La condición anterior conduce a las **ecuaciones normales**: \n",
    "\n",
    "$$0=A^Tr(\\beta)=A^T(y-A\\beta)=A^Ty-A^TA\\beta.$$"
   ]
  },
  {
   "cell_type": "markdown",
   "metadata": {},
   "source": [
    "donde: $A$ se construye con las $\\phi_j$'s evaluadas en los puntos $x_i$'s, el vector $\\beta$ contiene a los parámetros $\\beta_j$'s a estimar y el vector $y$, la variable **respuesta**, se construye con los puntos $y_i$'s:"
   ]
  },
  {
   "cell_type": "markdown",
   "metadata": {},
   "source": [
    "$$A = \\left[\\begin{array}{cccc}\n",
    "\\phi_0(x_0) &\\phi_1(x_0)&\\dots&\\phi_n(x_0)\\\\\n",
    "\\phi_0(x_1) &\\phi_1(x_1)&\\dots&\\phi_n(x_1)\\\\\n",
    "\\vdots &\\vdots& \\vdots&\\vdots\\\\\n",
    "\\phi_0(x_n) &\\phi_1(x_n)&\\dots&\\phi_n(x_n)\\\\\n",
    "\\vdots &\\vdots& \\vdots&\\vdots\\\\\n",
    "\\phi_0(x_{m-1}) &\\phi_1(x_{m-1})&\\dots&\\phi_n(x_{m-1})\\\\\n",
    "\\phi_0(x_m) &\\phi_1(x_m)&\\dots&\\phi_n(x_m)\n",
    "\\end{array}\n",
    "\\right] \\in \\mathbb{R}^{(m+1)x(n+1)},\n",
    "\\beta=\n",
    "\\left[\\begin{array}{c}\n",
    "\\beta_0\\\\\n",
    "\\beta_1\\\\\n",
    "\\vdots \\\\\n",
    "\\beta_n\n",
    "\\end{array}\n",
    "\\right] \\in \\mathbb{R}^{n+1},\n",
    "y=\n",
    "\\left[\\begin{array}{c}\n",
    "y_0\\\\\n",
    "y_1\\\\\n",
    "\\vdots \\\\\n",
    "y_m\n",
    "\\end{array}\n",
    "\\right] \\in \\mathbb{R}^{m + 1}\n",
    "$$"
   ]
  },
  {
   "cell_type": "markdown",
   "metadata": {},
   "source": [
    "Finalmente, considerando la variable de optimización $\\beta$ y al vector $y$ tenemos: $A^TA \\beta = A^Ty$."
   ]
  },
  {
   "cell_type": "markdown",
   "metadata": {},
   "source": [
    "**Comentario**\n",
    "\n",
    "Si $A$ es de $rank$ completo (tiene $n+1$ columnas linealmente independientes) una opción para resolver el sistema anterior es calculando la factorización $QR$ de $A$: $A = QR$ y entonces: \n",
    "\n",
    "\n",
    "$$A^TA\\beta = A^Ty$$. \n",
    "\n",
    "\n",
    "Dado que $A=QR$ se tiene: $A^TA = (R^TQ^T)(QR)$ y $A^T = R^TQ^T$ por lo que:\n",
    "\n",
    "$$(R^TQ^T)(QR) \\beta =  R^TQ^T y$$\n",
    "\n",
    "y usando que $Q$ tiene columnas ortonormales:\n",
    "\n",
    "$$R^TR\\beta = R^TQ^Ty$$\n",
    "\n",
    "Como $A$ tiene $n+1$ columnas linealmente independientes, la matriz $R$ es invertible por lo que $R^T$ también lo es y finalmente se tiene el **sistema de ecuaciones lineales** por resolver:\n",
    "\n",
    "$$R\\beta = Q^Ty$$\n"
   ]
  },
  {
   "cell_type": "markdown",
   "metadata": {},
   "source": [
    "### Enfoque de optimización"
   ]
  },
  {
   "cell_type": "markdown",
   "metadata": {},
   "source": [
    "La función objetivo en los mínimos cuadrados lineales puede escribirse de las siguientes formas:\n",
    "\n"
   ]
  },
  {
   "cell_type": "markdown",
   "metadata": {},
   "source": [
    "$$\n",
    "\\begin{eqnarray}\n",
    "f_o(\\beta)=\\displaystyle \\sum_{i=1}^{m} (y_i -f_o(x_i|\\beta))^2 &=&  \\displaystyle \\sum_{i=1}^{m} (y_i - A[i,:]^T\\beta)^2 \\\\\n",
    "&=& ||y - A \\beta||_2^2 \\\\\n",
    "&=& (y-A\\beta)^T(y-A\\beta) \\\\\n",
    "&=& y^Ty-2\\beta^TA^Ty + \\beta^TA^TA\\beta\n",
    "\\end{eqnarray}\n",
    "$$"
   ]
  },
  {
   "cell_type": "markdown",
   "metadata": {},
   "source": [
    "con $A[i,:]$ $i$-ésimo renglón de $A$ visto como un vector en $\\mathbb{R}^n$. Es común dividir por $2$ la función objetivo para finalmente tener el problema:\n",
    "\n",
    "$$\\displaystyle \\min_{\\beta \\in \\mathbb{R}^n} \\frac{1}{2}\\beta^TA^TA\\beta - \\beta^TA^Ty + \\frac{1}{2}y^Ty.$$\n"
   ]
  },
  {
   "cell_type": "markdown",
   "metadata": {},
   "source": [
    "**Observación**\n",
    "\n",
    "\n",
    "En cualquier reescritura de la función $f_o$, el problema de aproximación con normas, o bien en su caso particular de mínimos cuadrados, es un problema de **optimización convexa**.\n",
    "\n"
   ]
  },
  {
   "cell_type": "markdown",
   "metadata": {},
   "source": [
    "### Ejemplo"
   ]
  },
  {
   "cell_type": "code",
   "execution_count": 2,
   "metadata": {
    "ExecuteTime": {
     "end_time": "2020-11-19T02:34:20.539965Z",
     "start_time": "2020-11-19T02:34:20.538072Z"
    }
   },
   "outputs": [],
   "source": [
    "import numpy as np\n",
    "import matplotlib.pyplot as plt \n",
    "import pprint"
   ]
  },
  {
   "cell_type": "code",
   "execution_count": 3,
   "metadata": {
    "ExecuteTime": {
     "end_time": "2020-11-19T02:34:21.380019Z",
     "start_time": "2020-11-19T02:34:21.377678Z"
    }
   },
   "outputs": [],
   "source": [
    "np.set_printoptions(precision=2, suppress=True)"
   ]
  },
  {
   "cell_type": "code",
   "execution_count": 4,
   "metadata": {
    "ExecuteTime": {
     "end_time": "2020-11-19T02:34:21.998724Z",
     "start_time": "2020-11-19T02:34:21.995557Z"
    }
   },
   "outputs": [],
   "source": [
    "np.random.seed(1989) #for reproducibility\n",
    "mpoints = 20\n",
    "x = np.random.randn(mpoints) \n",
    "y = -3*x + np.random.normal(2,1,mpoints)"
   ]
  },
  {
   "cell_type": "markdown",
   "metadata": {},
   "source": [
    "**Los datos ejemplo**"
   ]
  },
  {
   "cell_type": "code",
   "execution_count": 5,
   "metadata": {
    "ExecuteTime": {
     "end_time": "2020-11-19T02:34:23.329946Z",
     "start_time": "2020-11-19T02:34:23.146163Z"
    }
   },
   "outputs": [
    {
     "data": {
      "image/png": "[encoded data removed]",
      "text/plain": [
       "<Figure size 432x288 with 1 Axes>"
      ]
     },
     "metadata": {
      "needs_background": "light"
     },
     "output_type": "display_data"
    }
   ],
   "source": [
    "plt.plot(x,y, 'r*')\n",
    "plt.xlabel('x')\n",
    "plt.ylabel('y')\n",
    "plt.title('Puntos ejemplo')\n",
    "plt.show()"
   ]
  },
  {
   "cell_type": "markdown",
   "metadata": {},
   "source": [
    "Utilizamos el paquete [cvxpy](https://github.com/cvxgrp/cvxpy) para resolver el problema de mínimos cuadrados:"
   ]
  },
  {
   "cell_type": "code",
   "execution_count": 6,
   "metadata": {
    "ExecuteTime": {
     "end_time": "2020-11-19T02:34:31.369946Z",
     "start_time": "2020-11-19T02:34:31.126044Z"
    }
   },
   "outputs": [],
   "source": [
    "import cvxpy as cp"
   ]
  },
  {
   "cell_type": "markdown",
   "metadata": {},
   "source": [
    "\n",
    "\n",
    "Construimos a la matriz $A$.\n",
    "\n"
   ]
  },
  {
   "cell_type": "code",
   "execution_count": 8,
   "metadata": {
    "ExecuteTime": {
     "end_time": "2020-11-19T02:34:59.886468Z",
     "start_time": "2020-11-19T02:34:59.884149Z"
    }
   },
   "outputs": [],
   "source": [
    "A=np.ones((mpoints,2)) #step 1 to build matrix A\n",
    "A[:,1] = x #step 2 to build matrix A"
   ]
  },
  {
   "cell_type": "markdown",
   "metadata": {},
   "source": [
    "\n",
    "\n",
    "Definición de variables y función objetivo: $\\frac{1}{2}\\beta^TA^TA\\beta - \\beta^TA^Ty + \\frac{1}{2}y^Ty$.\n",
    "\n"
   ]
  },
  {
   "cell_type": "code",
   "execution_count": 9,
   "metadata": {
    "ExecuteTime": {
     "end_time": "2020-11-19T02:35:00.547281Z",
     "start_time": "2020-11-19T02:35:00.543011Z"
    }
   },
   "outputs": [],
   "source": [
    "n = 2 # number of variables\n",
    "beta = cp.Variable(n) #optimization variable\n",
    "fo_cvxpy = (1/2)*cp.quad_form(beta, A.T@A) - cp.sum(cp.multiply(A.T@y, beta)) + 1/2*y.dot(y) #objective function"
   ]
  },
  {
   "cell_type": "code",
   "execution_count": 10,
   "metadata": {
    "ExecuteTime": {
     "end_time": "2020-11-19T02:35:00.657438Z",
     "start_time": "2020-11-19T02:35:00.645294Z"
    }
   },
   "outputs": [
    {
     "name": "stdout",
     "output_type": "stream",
     "text": [
      "10.217738419387963\n"
     ]
    }
   ],
   "source": [
    "prob = cp.Problem(cp.Minimize(fo_cvxpy))\n",
    "print(prob.solve())"
   ]
  },
  {
   "cell_type": "code",
   "execution_count": 11,
   "metadata": {
    "ExecuteTime": {
     "end_time": "2020-11-19T02:35:00.752432Z",
     "start_time": "2020-11-19T02:35:00.748319Z"
    }
   },
   "outputs": [
    {
     "name": "stdout",
     "output_type": "stream",
     "text": [
      "\n",
      "The optimal value is 10.217738419387963\n",
      "The optimal beta is\n",
      "[ 2.03 -2.65]\n",
      "The norm of the residual is  4.520561562325624\n"
     ]
    }
   ],
   "source": [
    "print(\"\\nThe optimal value is\", prob.value)\n",
    "print(\"The optimal beta is\")\n",
    "print(beta.value)\n",
    "print(\"The norm of the residual is \", cp.norm(A @ beta - y, p=2).value) #also works: cp.norm2(A @ beta - y).value\n"
   ]
  },
  {
   "cell_type": "markdown",
   "metadata": {},
   "source": [
    "El paquete *CVXPY* ya tiene una función para resolver el problema anterior, ver [least_squares](https://www.cvxpy.org/examples/basic/least_squares.html)."
   ]
  },
  {
   "cell_type": "code",
   "execution_count": 12,
   "metadata": {
    "ExecuteTime": {
     "end_time": "2020-11-19T02:38:52.128953Z",
     "start_time": "2020-11-19T02:38:52.126353Z"
    }
   },
   "outputs": [],
   "source": [
    "fo_cvxpy = 1/2*cp.sum_squares(A@beta -y)"
   ]
  },
  {
   "cell_type": "code",
   "execution_count": 13,
   "metadata": {
    "ExecuteTime": {
     "end_time": "2020-11-19T02:38:52.903422Z",
     "start_time": "2020-11-19T02:38:52.891193Z"
    }
   },
   "outputs": [
    {
     "name": "stdout",
     "output_type": "stream",
     "text": [
      "10.217738419387944\n"
     ]
    }
   ],
   "source": [
    "prob = cp.Problem(cp.Minimize(fo_cvxpy))\n",
    "print(prob.solve())"
   ]
  },
  {
   "cell_type": "code",
   "execution_count": 14,
   "metadata": {
    "ExecuteTime": {
     "end_time": "2020-11-19T02:38:56.105650Z",
     "start_time": "2020-11-19T02:38:56.102160Z"
    }
   },
   "outputs": [
    {
     "name": "stdout",
     "output_type": "stream",
     "text": [
      "\n",
      "The optimal value is 10.217738419387944\n",
      "The optimal beta is\n",
      "[ 2.03 -2.65]\n",
      "The norm of the residual is  4.520561562325624\n"
     ]
    }
   ],
   "source": [
    "print(\"\\nThe optimal value is\", prob.value)\n",
    "print(\"The optimal beta is\")\n",
    "print(beta.value)\n",
    "print(\"The norm of the residual is \", cp.norm(A @ beta - y, p=2).value) #also works: cp.norm2(A @ beta - y).value\n"
   ]
  },
  {
   "cell_type": "markdown",
   "metadata": {},
   "source": [
    "## El problema de clasificación en dos clases $\\mathcal{C}_0, \\mathcal{C}_1$ "
   ]
  },
  {
   "cell_type": "markdown",
   "metadata": {},
   "source": [
    "Sean $\\mathcal{C}_0 , \\mathcal{C}_1$ dos clases ajenas y $x \\in \\mathbb{R}^n$. El problema de clasificación consiste en clasificar al vector $x$ en alguna de las dos clases anteriores de modo que se minimice el error de clasificación.\n",
    "\n",
    "\n",
    "Ejemplos de lo anterior los encontramos en medicina (persona enferma o no dada una serie de mediciones en sangre), finanzas (persona sujeta a un crédito bancario o no dado un historial crediticio) o clasificación de textos (*spam* o no *spam*).\n"
   ]
  },
  {
   "cell_type": "markdown",
   "metadata": {},
   "source": [
    "## Regresión logística: clasificación en $\\mathcal{C}_0, \\mathcal{C}_1$ "
   ]
  },
  {
   "cell_type": "markdown",
   "metadata": {},
   "source": [
    "El modelo por regresión logística tiene por objetivo **modelar las probabilidades de pertenencia a cada una de las clases** $\\mathcal{C}_0, \\mathcal{C}_1$ dado el vector de *features* o atributos $x \\in \\mathbb{R}^n$: $p(\\mathcal{C}_0|x) , p(\\mathcal{C}_1|x)$."
   ]
  },
  {
   "cell_type": "markdown",
   "metadata": {},
   "source": [
    "En la regresión logística se utiliza la función **[sigmoide](https://en.wikipedia.org/wiki/Sigmoid_function)** $\\sigma:\\mathbb{R} \\rightarrow \\mathbb{R}$:\n",
    "\n",
    "$$\\sigma(t)=\\frac{1}{1+\\exp(-t)}$$\n",
    "\n",
    "para modelar ambas probabilidades ya que mapea todo el eje real al intervalo $[0,1]$. Además resulta ser una aproximación continua y diferenciable a la función de **[Heaviside](https://en.wikipedia.org/wiki/Heaviside_step_function)** $H:\\mathbb{R} \\rightarrow \\mathbb{R}$\n",
    "\n",
    "$$H(t) = \n",
    "\\begin{cases}\n",
    "1 & \\text{si } t \\geq 0,\\\\\n",
    "0 & \\text{si } t <0\\\\\n",
    "\\end{cases}\n",
    "$$\n",
    "\n"
   ]
  },
  {
   "cell_type": "code",
   "execution_count": 13,
   "metadata": {},
   "outputs": [],
   "source": [
    "mpoints = 100\n",
    "t = np.linspace(-10, 10, mpoints)\n",
    "Heaviside = 1*(t>0)"
   ]
  },
  {
   "cell_type": "code",
   "execution_count": 14,
   "metadata": {},
   "outputs": [],
   "source": [
    "import matplotlib.pyplot as plt"
   ]
  },
  {
   "cell_type": "code",
   "execution_count": 15,
   "metadata": {},
   "outputs": [
    {
     "data": {
      "image/png": "[encoded data removed]",
      "text/plain": [
       "<Figure size 432x288 with 1 Axes>"
      ]
     },
     "metadata": {
      "needs_background": "light"
     },
     "output_type": "display_data"
    }
   ],
   "source": [
    "plt.plot(t, Heaviside, '.')\n",
    "plt.show()"
   ]
  },
  {
   "cell_type": "markdown",
   "metadata": {},
   "source": [
    "A continuación graficamos a la sigmoide $\\sigma(ht)$ para distintos valores de $h \\in \\{-3, -1, -1/2, 1/2, 1, 3\\}$:"
   ]
  },
  {
   "cell_type": "code",
   "execution_count": 16,
   "metadata": {},
   "outputs": [],
   "source": [
    "sigmoid = lambda t_value: 1/(1+np.exp(-t_value))"
   ]
  },
  {
   "cell_type": "code",
   "execution_count": 17,
   "metadata": {},
   "outputs": [],
   "source": [
    "h = np.array([-3, -1, -1/2, 1/2, 1, 3])\n",
    "n = len(h)\n",
    "sigmoids = np.zeros((mpoints, n))\n",
    "for i in range(len(h)):\n",
    "    sigmoids[:,i] = sigmoid(h[i]*t)"
   ]
  },
  {
   "cell_type": "code",
   "execution_count": 18,
   "metadata": {},
   "outputs": [
    {
     "data": {
      "image/png": "[encoded data removed]",
      "text/plain": [
       "<Figure size 504x504 with 1 Axes>"
      ]
     },
     "metadata": {
      "needs_background": "light"
     },
     "output_type": "display_data"
    }
   ],
   "source": [
    "plt.figure(figsize=(7,7))\n",
    "plt.plot(t, sigmoids[:,0],\n",
    "         t, sigmoids[:,1],\n",
    "         t, sigmoids[:,2],\n",
    "         t, sigmoids[:,3],\n",
    "         t, sigmoids[:,4],\n",
    "         t, sigmoids[:,5])\n",
    "l = [\"h=-3\", \"h=-1\", \"h=-1/2\", \"h=1/2\", \"h=1\", \"h=3\"]\n",
    "plt.legend(l, bbox_to_anchor=(1,1))\n",
    "plt.title(\"Diferentes funciones sigmoides $\\sigma(ht)$\")\n",
    "plt.show()"
   ]
  },
  {
   "cell_type": "markdown",
   "metadata": {},
   "source": [
    "Obsérvese la forma de cada curva al variar $h$ en la función $\\sigma(ht)$. Una regla de clasificación podría ser clasificar como perteneciente a $\\mathcal{C}_0$ si la probabilidad (modelada por la curva sigmoide) es menor a $0.25$ (**punto de corte**) y perteneciente a $\\mathcal{C}_1$ si es mayor o igual a $0.25$. Para diferentes curvas sigmoides presentadas en la gráfica anterior obsérvese que al fijar el punto de corte y tomar un valor de $t$ en el eje horizontal, la pertenencia a alguna de las clases es menos sensible al variar $t$ que en otras curvas.\n",
    "\n"
   ]
  },
  {
   "cell_type": "markdown",
   "metadata": {},
   "source": [
    "Así, la función sigmoide permite modelar la probabilidad de pertenencia a la clase $\\mathcal{C}_1:$\n",
    "\n",
    "$$p(\\mathcal{C}_1| x)=\\sigma(a)$$\n",
    "\n",
    "para alguna $a \\in \\mathbb{R}$."
   ]
  },
  {
   "cell_type": "markdown",
   "metadata": {},
   "source": [
    "Con el [teorema de Bayes](https://en.wikipedia.org/wiki/Bayes%27_theorem) se obtiene el valor de $a$:\n",
    "\n",
    "$$\n",
    "\\begin{eqnarray}\n",
    "p(\\mathcal{C}_1|x) &=& \\frac{p(x|\\mathcal{C}_1)p(\\mathcal{C}_1)}{p(x|\\mathcal{C}_0)p(\\mathcal{C}_0)+p(x|\\mathcal{C}_1)p(\\mathcal{C}_1)} \\nonumber \\\\\n",
    "&=& \\left ( 1+ \\frac{p(x|\\mathcal{C}_0)p(\\mathcal{C}_0)}{p(x|\\mathcal{C}_1)p(\\mathcal{C}_1)} \\right )^{-1} \\nonumber\n",
    "\\end{eqnarray}\n",
    "$$"
   ]
  },
  {
   "cell_type": "markdown",
   "metadata": {},
   "source": [
    "Por lo tanto:"
   ]
  },
  {
   "cell_type": "markdown",
   "metadata": {},
   "source": [
    "$$\n",
    "\\begin{eqnarray}\n",
    "a(x)&=&\\log\\left( \\frac{p(x|\\mathcal{C}_1)p(\\mathcal{C}_1)}{p(x|\\mathcal{C}_0)p(\\mathcal{C}_0)} \\right ) \\nonumber\n",
    "\\end{eqnarray}\n",
    "$$"
   ]
  },
  {
   "cell_type": "markdown",
   "metadata": {},
   "source": [
    "```{admonition} Comentarios\n",
    "\n",
    "* Algunas propiedades que tiene la función $\\sigma(\\cdot)$ se encuentran:\n",
    "\n",
    "$$\n",
    "\\begin{eqnarray}\n",
    "\\sigma (-t)&=&1-\\sigma (t) \\nonumber \\\\\n",
    "\\frac{d\\sigma (t)}{dt}&=&\\sigma (t)(1-\\sigma (t)) \\nonumber\n",
    "\\end{eqnarray}\n",
    "$$\n",
    "\n",
    "* En Estadística a la función:\n",
    "\n",
    "$$a=\\log\\left(\\frac{\\sigma}{1-\\sigma}\\right)$$\n",
    "\n",
    "se le conoce como [**logit**](https://en.wikipedia.org/wiki/Logit) y modela el log momio:\n",
    "\n",
    "$$\\log \\left(\\frac{p(\\mathcal{C}_1|x)}{p(\\mathcal{C}_0|x)}\\right)=\\log \\left(\\frac{p(\\mathcal{C}_1|x)}{1-p(\\mathcal{C}_1|x)}\\right)$$\n",
    "\n",
    "que tiene una interpretación directa en términos de las probabilidades de pertenencia a cada clase $\\mathcal{C}_0,\\mathcal{C}_1$.\n",
    "\n",
    "```"
   ]
  },
  {
   "cell_type": "markdown",
   "metadata": {},
   "source": [
    "### Modelo en regresión logística de dos clases"
   ]
  },
  {
   "cell_type": "markdown",
   "metadata": {},
   "source": [
    "De forma similar como en el modelo por mínimos cuadrados lineales se modeló a la variable respuesta $y$ con una función lineal en sus parámetros, en el modelo en regresión logística **con dos clases e intercepto** se propone una **función lineal** en un vector de parámetros $(\\beta_0,\\beta) \\in \\mathbb{R}^{n+1}$ definida por el logit:"
   ]
  },
  {
   "cell_type": "markdown",
   "metadata": {},
   "source": [
    "$$\n",
    "\\beta^T x+\\beta_0=a(x|\\beta_0,\\beta)=\\log \\left(\\frac{p(\\mathcal{C}_1|x)}{p(\\mathcal{C}_0|x)}\\right).\n",
    "$$\n",
    "\n",
    "\n",
    "Obsérvese que si $y$ es considerada como variable respuesta que está en función de $x \\in \\mathbb{R}^{n+1}$ dado el vector $(\\beta_0, \\beta)$ se tiene:\n"
   ]
  },
  {
   "cell_type": "markdown",
   "metadata": {},
   "source": [
    "$$p(\\mathcal{C}_1 | x ) = y(x | \\beta_0, \\beta) = \\frac{1}{1+ e^{-(\\beta_0, \\beta)^T x}}$$\n",
    "\n",
    "que se lee \"la probabilidad de pertenencia a la clase $\\mathcal{C}_1$ dado el vector de atributos $x$ es igual a $y$\".\n"
   ]
  },
  {
   "cell_type": "markdown",
   "metadata": {},
   "source": [
    "```{admonition} Comentarios\n",
    "\n",
    "\n",
    "* El modelo con $2$ parámetros $\\beta_0, \\beta_1$ se ve como:\n",
    "\n",
    "$$p(\\mathcal{C}_1 | x ) = y(x | \\beta_0, \\beta) = \\frac{1}{1+ e^{-(\\beta_0 + \\beta_1x)}}$$\n",
    "\n",
    "\n",
    "con $x \\in \\mathbb{R}$.\n",
    "\n",
    "* El modelo puede extenderse utilizando $n+1$ funciones conocidas $\\phi_j:\\mathbb{R} \\rightarrow \\mathbb{R}$, $\\phi_j(x)$ $j=0,\\dots, n$ por lo que si $\\phi(x)=(\\phi_0(x),\\phi_1(x),\\dots,\\phi_n(x))^T$ y $\\beta_0 \\in \\mathbb{R}$, $\\beta \\in \\mathbb{R}^n$, entonces se tiene el modelo por regresión logística:\n",
    "\n",
    "$$\n",
    "p(\\mathcal{C}_1|\\phi(x))=y(x|\\beta_0, \\beta)= \\frac{1}{1+ e^{-(\\beta_0, \\beta)^T \\phi(x)}}\n",
    "$$\n",
    "\n",
    "* La notación $y(x | \\beta_0, \\beta)$ se utiliza para denotar que $(\\beta_0, \\beta)$ es un vector de parámetros a estimar, en específico $\\beta_0, \\beta_1, \\dots, \\beta_n$, esto es: $n+1$ parámetros a estimar.\n",
    "\n",
    "* La variable de optimización es $(\\beta_0, \\beta) \\in \\mathbb{R}^{n+1}$.\n",
    "\n",
    "```"
   ]
  },
  {
   "cell_type": "markdown",
   "metadata": {},
   "source": [
    "### ¿Cómo se ajustan los parámetros del modelo por regresión logística de dos clases?"
   ]
  },
  {
   "cell_type": "markdown",
   "metadata": {},
   "source": [
    "Dados $(x_0,\\hat{y}_0), \\dots (x_m, \\hat{y}_m)$ puntos se desean modelar $m+1$ probabilidades de pertenencias a las clases $\\mathcal{C}_0, \\mathcal{C}_1$ representadas con las etiquetas  $\\hat{y}_i \\in \\{0,1\\} \\forall i=0,1,\\dots, m$. El número $0$ representa a la clase $\\mathcal{C}_0$ y el $1$ a la clase $\\mathcal{C}_1$. El vector $x_i \\in \\mathbb{R}^n$ .\n",
    "\n",
    "Cada probabilidad se modela como $y_0=y_0(x_0|\\beta_0, \\beta),y_1=y_1(x_1|\\beta_0, \\beta),\\dots,y_m=y_m(x_n|\\beta_0, \\beta)$ utilizando:\n",
    "\n",
    "$$p(\\mathcal{C}_1|x_i) = y_i(x_i|\\beta_0,\\beta)  = \\frac{1}{1+ e^{-(\\beta_0 + \\beta^T x)}} \\forall i=0,1,\\dots,m.$$\n"
   ]
  },
  {
   "cell_type": "markdown",
   "metadata": {},
   "source": [
    "Los $n+1$ parámetros $\\beta_0, \\beta_1, \\dots, \\beta_n$ se ajustan **maximizando** la [función de verosimilitud](https://en.wikipedia.org/wiki/Likelihood_function):\n",
    "\n",
    "$$\n",
    "\\mathcal{L}(\\beta_0, \\beta|x)=\\displaystyle \\prod_{i=0}^n y_i^{\\hat{y}_i}(1-y_i)^{1-\\hat{y}_i}\n",
    "$$\n",
    "\n",
    "donde: $\\hat{y}_i \\sim \\text{Bernoulli}(y_i)$ y por tanto $\\hat{y}_i \\in \\{0,1\\}$: $\\hat{y}_i = 1$ con probabilidad $y_i$ y $\\hat{y}_i = 0$ con probabilidad $1-y_i$. Entonces se tiene el problema:\n",
    "\n"
   ]
  },
  {
   "cell_type": "markdown",
   "metadata": {},
   "source": [
    "$$\\displaystyle \\max_{(\\beta_0, \\beta) \\in \\mathbb{R}^{n+1}} \\mathcal{L}(\\beta_0, \\beta|x)=\\displaystyle \\prod_{i=0}^n y_i^{\\hat{y}_i}(1-y_i)^{1-\\hat{y}_i}$$"
   ]
  },
  {
   "cell_type": "markdown",
   "metadata": {},
   "source": [
    "Lo anterior es equivalente a maximizar la **log-verosimilitud**:\n",
    "\n",
    "$$\n",
    "\\begin{eqnarray}\n",
    "\\ell(\\beta_0, \\beta |x)&=&\\log(\\mathcal{L}(\\beta_0, \\beta| x)) \\nonumber\\\\\n",
    "&=&\\displaystyle \\sum_{i=1}^m \\hat{y}_i\\log(y_i)+(1-\\hat{y}_i)\\log(1-y_i) \\nonumber\\\\\n",
    "&=&\\displaystyle \\sum_{i=1}^m\\hat{y}_i (\\beta_0, \\beta)^T x_i-\\log(1+\\exp((\\beta_0, \\beta)^Tx_i) \\nonumber\n",
    "\\end{eqnarray}\n",
    "$$\n",
    "\n",
    "o a minimizar la [**devianza**](https://en.wikipedia.org/wiki/Deviance_(statistics)):\n"
   ]
  },
  {
   "cell_type": "markdown",
   "metadata": {},
   "source": [
    "$$\n",
    "\\begin{eqnarray}\n",
    "\\displaystyle \\min_{(\\beta_0, \\beta) \\in \\mathbb{R}^{n+1}}\\mathcal{D}(\\beta_0, \\beta|x)&=&-2\\ell(\\beta_0, \\beta|x) \\nonumber \\\\\n",
    "&=&2\\displaystyle \\sum_{i=1}^m\\log(1+\\exp((\\beta_0, \\beta)^Tx_i))-\\hat{y}_i(\\beta_0, \\beta)^Tx_i \\nonumber\n",
    "\\end{eqnarray}\n",
    "$$"
   ]
  },
  {
   "cell_type": "markdown",
   "metadata": {},
   "source": [
    "```{admonition} Comentario\n",
    "\n",
    "\n",
    "La devianza es una función convexa pues su Hessiana es:\n",
    "\n",
    "$$\n",
    "\\nabla^2 D(\\beta_0, \\beta |x) = 2A^TPA\n",
    "$$\n",
    "\n",
    "con: $P$ una matriz diagonal con entradas $y_i(1-y_i)$ donde: $y_i$ está en función de $x_i$: $y_i(x_i|\\beta_0,\\beta) = \\frac{1}{1+ e^{-(\\beta_0 + \\beta^T x_i)}} \\forall i=0,1,\\dots,m$ y la matriz A es:\n",
    "\n",
    "\n",
    "$$A = \\left[\\begin{array}{c}\n",
    "x_0\\\\\n",
    "x_1\\\\\n",
    "\\vdots\\\\\n",
    "x_m\n",
    "\\end{array}\n",
    "\\right]=\\left[\\begin{array}{cccc}\n",
    "x_{01} & x_{02}&\\dots& x_{0n}\\\\\n",
    "x_{11}& x_{12}&\\dots& x_{1n}\\\\\n",
    "\\vdots &\\vdots& \\vdots&\\vdots\\\\\n",
    "x_{n1} &x_{n2}&\\dots&x_{nn}\\\\\n",
    "\\vdots &\\vdots& \\vdots&\\vdots\\\\\n",
    "x_{m1} &x_{m2}&\\dots&x_{mn}\n",
    "\\end{array}\n",
    "\\right] \\in \\mathbb{R}^{(m+1)x(n+1)}\n",
    "$$\n",
    "\n",
    "El valor $m$ representa el número de observaciones y el valor $n$ representa la dimensión del vector $\\beta$.\n",
    "\n",
    "\n",
    "La expresión anterior de la Hessiana se obtiene a partir de la expresión del gradiente:\n",
    "\n",
    "$$\n",
    "\\nabla D(\\beta_0, \\beta|x) = 2 \\displaystyle \\sum_{i=1}^m \\left( y_i - \\hat{y}_i \\right )x_i  = 2\\sum_{i=1}^m \\left( p(\\mathcal{C}_1|x_i) - \\hat{y}_i \\right )x_i = 2A^T(p-\\hat{y})\n",
    "$$\n",
    "\n",
    "donde:\n",
    "\n",
    "$$\n",
    "p=\\left[\\begin{array}{c}\n",
    "y_0(x_0|\\beta_0,\\beta)\\\\\n",
    "y_1(x_1|\\beta_0,\\beta)\\\\\n",
    "\\vdots \\\\\n",
    "y_m(x_m|\\beta_0,\\beta)\n",
    "\\end{array}\n",
    "\\right]=\n",
    "\\left[\\begin{array}{c}\n",
    "p(\\mathcal{C}_1|x_0)\\\\\n",
    "p(\\mathcal{C}_1|x_1)\\\\\n",
    "\\vdots \\\\\n",
    "p(\\mathcal{C}_1|x_m)\n",
    "\\end{array}\n",
    "\\right] \\in \\mathbb{R}^{n+1},\n",
    "\\hat{y}=\n",
    "\\left[\\begin{array}{c}\n",
    "\\hat{y}_0\\\\\n",
    "\\hat{y}_1\\\\\n",
    "\\vdots \\\\\n",
    "\\hat{y}_m\n",
    "\\end{array}\n",
    "\\right] \\in \\mathbb{R}^{m+1}\n",
    "$$\n",
    "\n",
    "Así, la Hessiana de la devianza es simétrica semidefinida positiva y por tanto es una función convexa.\n",
    "\n",
    "```"
   ]
  },
  {
   "cell_type": "markdown",
   "metadata": {},
   "source": [
    "### Ejemplo [Iris *dataset*](https://scikit-learn.org/stable/auto_examples/datasets/plot_iris_dataset.html)"
   ]
  },
  {
   "cell_type": "markdown",
   "metadata": {},
   "source": [
    "Utilizamos el conocido *dataset* de [*Iris*](https://en.wikipedia.org/wiki/Iris_flower_data_set) en el que se muestran **tres especies del género *Iris***. Las especies son: [*I. setosa*](https://en.wikipedia.org/wiki/Iris_setosa), [*I. virginica*](https://en.wikipedia.org/wiki/Iris_virginica) y [*I. versicolor*](https://en.wikipedia.org/wiki/Iris_versicolor):\n",
    "\n",
    "\n",
    "<img src=\"https://dl.dropboxusercontent.com/s/1bvsv79h0h64ijv/iris_dataset_flowers.png?dl=0\" heigth=\"400\" width=\"400\">\n",
    "\n",
    "Imagen obtenida de [Iris Dataset](https://rpubs.com/AjinkyaUC/Iris_DataSet)."
   ]
  },
  {
   "cell_type": "code",
   "execution_count": 19,
   "metadata": {
    "tags": [
     "margin"
    ]
   },
   "outputs": [
    {
     "name": "stdout",
     "output_type": "stream",
     "text": [
      "\u001b[33mWARNING: You are using pip version 20.2; however, version 20.2.4 is available.\n",
      "You should consider upgrading via the '/usr/bin/python3 -m pip install --upgrade pip' command.\u001b[0m\n"
     ]
    }
   ],
   "source": [
    "!pip3 install --quiet sklearn"
   ]
  },
  {
   "cell_type": "code",
   "execution_count": 20,
   "metadata": {},
   "outputs": [],
   "source": [
    "from sklearn import datasets"
   ]
  },
  {
   "cell_type": "code",
   "execution_count": 21,
   "metadata": {},
   "outputs": [],
   "source": [
    "iris = datasets.load_iris()"
   ]
  },
  {
   "cell_type": "code",
   "execution_count": 22,
   "metadata": {},
   "outputs": [],
   "source": [
    "data_iris = iris[\"data\"]"
   ]
  },
  {
   "cell_type": "code",
   "execution_count": 23,
   "metadata": {},
   "outputs": [
    {
     "name": "stdout",
     "output_type": "stream",
     "text": [
      "[[5.1 3.5 1.4 0.2]\n",
      " [4.9 3.  1.4 0.2]\n",
      " [4.7 3.2 1.3 0.2]\n",
      " [4.6 3.1 1.5 0.2]\n",
      " [5.  3.6 1.4 0.2]\n",
      " [5.4 3.9 1.7 0.4]\n",
      " [4.6 3.4 1.4 0.3]\n",
      " [5.  3.4 1.5 0.2]\n",
      " [4.4 2.9 1.4 0.2]\n",
      " [4.9 3.1 1.5 0.1]]\n"
     ]
    }
   ],
   "source": [
    "print(data_iris[0:10, 0:10])"
   ]
  },
  {
   "cell_type": "code",
   "execution_count": 24,
   "metadata": {},
   "outputs": [
    {
     "name": "stdout",
     "output_type": "stream",
     "text": [
      "número de observaciones:150, número de atributos: 4\n"
     ]
    }
   ],
   "source": [
    "m,n = data_iris.shape\n",
    "print(\"número de observaciones:%d, número de atributos: %d\" % (m,n))"
   ]
  },
  {
   "cell_type": "markdown",
   "metadata": {},
   "source": [
    "Columnas en este orden: `Sepal.Length`, `Sepal.Width`, `Petal.Length`, `Petal.Width`"
   ]
  },
  {
   "cell_type": "code",
   "execution_count": 25,
   "metadata": {},
   "outputs": [
    {
     "name": "stdout",
     "output_type": "stream",
     "text": [
      "['setosa' 'versicolor' 'virginica']\n"
     ]
    }
   ],
   "source": [
    "print(iris[\"target_names\"])"
   ]
  },
  {
   "cell_type": "code",
   "execution_count": 26,
   "metadata": {},
   "outputs": [
    {
     "name": "stdout",
     "output_type": "stream",
     "text": [
      "[0 1 2]\n"
     ]
    }
   ],
   "source": [
    "print(np.unique(iris[\"target\"]))"
   ]
  },
  {
   "cell_type": "code",
   "execution_count": 27,
   "metadata": {},
   "outputs": [],
   "source": [
    "data_iris_setosa_versicolor = data_iris[0:100].copy()"
   ]
  },
  {
   "cell_type": "code",
   "execution_count": 28,
   "metadata": {},
   "outputs": [
    {
     "name": "stdout",
     "output_type": "stream",
     "text": [
      "[[ 1.   -0.21  0.81  0.79]\n",
      " [-0.21  1.   -0.6  -0.57]\n",
      " [ 0.81 -0.6   1.    0.98]\n",
      " [ 0.79 -0.57  0.98  1.  ]]\n"
     ]
    }
   ],
   "source": [
    "print(np.corrcoef(data_iris_setosa_versicolor, rowvar=False))"
   ]
  },
  {
   "cell_type": "code",
   "execution_count": 29,
   "metadata": {},
   "outputs": [],
   "source": [
    "classes = iris[\"target\"][0:100].copy()"
   ]
  },
  {
   "cell_type": "markdown",
   "metadata": {},
   "source": [
    "La clase $\\mathcal{C}_0$ es `setosa` y $\\mathcal{C}_1$ es `versicolor` codificadas como $0, 1$ respectivamente."
   ]
  },
  {
   "cell_type": "markdown",
   "metadata": {},
   "source": [
    "La función objetivo como se revisó en la sección anterior está dada por la expresión de la devianza:"
   ]
  },
  {
   "cell_type": "markdown",
   "metadata": {},
   "source": [
    "$$\\mathcal{D}(\\beta_0, \\beta|x)=-2\\ell(\\beta_0, \\beta|x) = 2\\displaystyle \\sum_{i=1}^m\\log(1+\\exp((\\beta_0, \\beta)^Tx_i))-\\hat{y}_i(\\beta_0, \\beta)^Tx_i$$\n",
    "\n",
    "donde: $\\hat{y}_i \\in \\{0,1\\}$, $x_i$ $i$-ésimo renglón de matriz $A \\in \\mathbb{R}^{100 \\times 4}$."
   ]
  },
  {
   "cell_type": "markdown",
   "metadata": {},
   "source": [
    "**Añadimos la columna que indica uso de intercepto y por tanto de un modelo con $\\beta_0$:**"
   ]
  },
  {
   "cell_type": "code",
   "execution_count": 30,
   "metadata": {},
   "outputs": [],
   "source": [
    "m,n = data_iris_setosa_versicolor.shape"
   ]
  },
  {
   "cell_type": "code",
   "execution_count": 31,
   "metadata": {},
   "outputs": [],
   "source": [
    "data_iris_setosa_versicolor = np.column_stack((np.ones((m,1)), data_iris_setosa_versicolor))"
   ]
  },
  {
   "cell_type": "code",
   "execution_count": 32,
   "metadata": {},
   "outputs": [
    {
     "data": {
      "text/plain": [
       "array([[1. , 5.1, 3.5, 1.4, 0.2],\n",
       "       [1. , 4.9, 3. , 1.4, 0.2],\n",
       "       [1. , 4.7, 3.2, 1.3, 0.2],\n",
       "       [1. , 4.6, 3.1, 1.5, 0.2],\n",
       "       [1. , 5. , 3.6, 1.4, 0.2],\n",
       "       [1. , 5.4, 3.9, 1.7, 0.4],\n",
       "       [1. , 4.6, 3.4, 1.4, 0.3],\n",
       "       [1. , 5. , 3.4, 1.5, 0.2],\n",
       "       [1. , 4.4, 2.9, 1.4, 0.2],\n",
       "       [1. , 4.9, 3.1, 1.5, 0.1]])"
      ]
     },
     "execution_count": 32,
     "metadata": {},
     "output_type": "execute_result"
    }
   ],
   "source": [
    "print(data_iris_setosa_versicolor[0:10, 0:10])"
   ]
  },
  {
   "cell_type": "markdown",
   "metadata": {},
   "source": [
    "**Función objetivo:**"
   ]
  },
  {
   "cell_type": "markdown",
   "metadata": {},
   "source": [
    "$$2\\displaystyle \\sum_{i=1}^m\\log(1+\\exp((\\beta_0, \\beta)^Tx_i))-\\hat{y}_i(\\beta_0, \\beta)^Tx_i$$"
   ]
  },
  {
   "cell_type": "markdown",
   "metadata": {},
   "source": [
    "```{margin}\n",
    "\n",
    "Ver [cvxpy: logistic regression](https://www.cvxpy.org/examples/machine_learning/logistic_regression.html)\n",
    "\n",
    "```"
   ]
  },
  {
   "cell_type": "code",
   "execution_count": 33,
   "metadata": {},
   "outputs": [],
   "source": [
    "n = n+1 #number of variables\n",
    "beta = cp.Variable(n) #optimization variable\n",
    "fo_cvxpy = 2*cp.sum(\n",
    "             cp.logistic(data_iris_setosa_versicolor @ beta) - cp.multiply(classes, data_iris_setosa_versicolor @ beta)\n",
    "                   )\n",
    "\n",
    "obj = cp.Minimize(fo_cvxpy)"
   ]
  },
  {
   "cell_type": "code",
   "execution_count": 34,
   "metadata": {},
   "outputs": [
    {
     "name": "stdout",
     "output_type": "stream",
     "text": [
      "5.393472364509651e-06\n"
     ]
    }
   ],
   "source": [
    "prob = cp.Problem(obj)\n",
    "print(prob.solve())"
   ]
  },
  {
   "cell_type": "code",
   "execution_count": 35,
   "metadata": {},
   "outputs": [
    {
     "name": "stdout",
     "output_type": "stream",
     "text": [
      "\n",
      "The optimal value is 5.393472364509651e-06\n",
      "The optimal beta is\n",
      "[  9.71  -3.97 -13.53  11.16  25.52]\n"
     ]
    }
   ],
   "source": [
    "print(\"\\nThe optimal value is\", prob.value)\n",
    "print(\"The optimal beta is\")\n",
    "print(beta.value)\n"
   ]
  },
  {
   "cell_type": "markdown",
   "metadata": {},
   "source": [
    "### Cálculo de probabilidades de pertenencia a las clases $\\mathcal{C}_0 :$ `setosa`, $\\mathcal{C}_1 :$ `versicolor`"
   ]
  },
  {
   "cell_type": "markdown",
   "metadata": {},
   "source": [
    "**Para individuo $i$ se tiene:**"
   ]
  },
  {
   "cell_type": "markdown",
   "metadata": {},
   "source": [
    "$$p(\\mathcal{C}_1|x_i) = y_i(x_i|\\beta_0,\\beta)  = \\frac{1}{1+ e^{-(\\beta_0 + \\beta^T x_i)}} \\forall i=0,1,\\dots,m.$$\n"
   ]
  },
  {
   "cell_type": "markdown",
   "metadata": {},
   "source": [
    "Por ejemplo, para el renglón $1$ de `data_iris_setosa_versicolor`, que sabemos que pertenece a la clase $\\mathcal{C}_0$: `setosa`:"
   ]
  },
  {
   "cell_type": "markdown",
   "metadata": {},
   "source": [
    "**Estimación de la probabilidad de pertenencia a la clase $\\mathcal{C}_1$, `versicolor`**:\n"
   ]
  },
  {
   "cell_type": "code",
   "execution_count": 36,
   "metadata": {},
   "outputs": [],
   "source": [
    "linear_value = -data_iris_setosa_versicolor[0,:].dot(beta.value)"
   ]
  },
  {
   "cell_type": "code",
   "execution_count": 37,
   "metadata": {},
   "outputs": [
    {
     "name": "stdout",
     "output_type": "stream",
     "text": [
      "7.086267696762456e-17\n"
     ]
    }
   ],
   "source": [
    "print(1/(1+np.exp(linear_value)))"
   ]
  },
  {
   "cell_type": "markdown",
   "metadata": {},
   "source": [
    "**Estimación de la probabilidad de pertenencia a la clase $\\mathcal{C}_0$, `setosa`**:\n"
   ]
  },
  {
   "cell_type": "code",
   "execution_count": 38,
   "metadata": {},
   "outputs": [
    {
     "name": "stdout",
     "output_type": "stream",
     "text": [
      "1.0\n"
     ]
    }
   ],
   "source": [
    "print(np.exp(linear_value) / (1+np.exp(linear_value)))"
   ]
  },
  {
   "cell_type": "markdown",
   "metadata": {},
   "source": [
    "Por ejemplo, para el último renglón de `data_iris_setosa_versicolor`, que sabemos que pertenece a la clase $\\mathcal{C}_1$, `versicolor`:"
   ]
  },
  {
   "cell_type": "markdown",
   "metadata": {},
   "source": [
    "**Estimación de la probabilidad de pertenencia a la clase $\\mathcal{C}_1$, `versicolor`**:\n"
   ]
  },
  {
   "cell_type": "code",
   "execution_count": 39,
   "metadata": {},
   "outputs": [],
   "source": [
    "linear_value = -data_iris_setosa_versicolor[m-1,:].dot(beta.value)"
   ]
  },
  {
   "cell_type": "code",
   "execution_count": 40,
   "metadata": {},
   "outputs": [
    {
     "name": "stdout",
     "output_type": "stream",
     "text": [
      "0.999999999999369\n"
     ]
    }
   ],
   "source": [
    "print(1/(1+np.exp(linear_value)))"
   ]
  },
  {
   "cell_type": "markdown",
   "metadata": {},
   "source": [
    "**Estimación de la probabilidad de pertenencia a la clase $\\mathcal{C}_0$, `setosa`**:\n"
   ]
  },
  {
   "cell_type": "code",
   "execution_count": 41,
   "metadata": {},
   "outputs": [
    {
     "name": "stdout",
     "output_type": "stream",
     "text": [
      "6.31129004024284e-13\n"
     ]
    }
   ],
   "source": [
    "print(np.exp(linear_value) / (1+np.exp(linear_value)))"
   ]
  },
  {
   "cell_type": "markdown",
   "metadata": {},
   "source": [
    "```{admonition} Ejercicio\n",
    ":class: tip\n",
    "\n",
    "Realiza la clasificación y cálculo de probabilidades anterior para las clases `virginica` y `versicolor`.\n",
    "\n",
    "```"
   ]
  },
  {
   "cell_type": "markdown",
   "metadata": {},
   "source": [
    "(INTCIEO)="
   ]
  },
  {
   "cell_type": "markdown",
   "metadata": {},
   "source": [
    "## Introducción a *Constrained Inequality and Equality Optimization* (CIEO)"
   ]
  },
  {
   "cell_type": "markdown",
   "metadata": {},
   "source": [
    "Recuérdese que para *Unconstrained Optimization* (UO) se dieron **condiciones** que deben satisfacer puntos para ser óptimos en {ref}`sobre problemas de optimización <SPOPT>`. En esta sección se darán ejemplos que ayudarán a describir condiciones que caracterizan las soluciones para un {ref}`problema estándar de optimización <PESTOPT>`:\n"
   ]
  },
  {
   "cell_type": "markdown",
   "metadata": {},
   "source": [
    "$$\\displaystyle \\min f_o(x)$$\n",
    "\n",
    "$$\\text{sujeto a:}$$\n",
    "\n",
    "$$f_i(x) \\leq 0, \\quad \\forall i=1,\\dots,m$$\n",
    "\n",
    "$$h_i(x) = 0, \\quad \\forall i=1,\\dots,p$$\n",
    "\n",
    "con $f_i: \\mathbb{R}^n \\rightarrow \\mathbb{R}$ $\\forall i=0,\\dots,m$, $h_i: \\mathbb{R}^n \\rightarrow \\mathbb{R}$, $\\forall i=1,\\dots,p$. $f_i$ son las **restricciones de desigualdad**, $h_i$ son las **restricciones de igualdad**.\n"
   ]
  },
  {
   "cell_type": "markdown",
   "metadata": {},
   "source": [
    "```{admonition} Definición\n",
    "\n",
    "El problema anterior se le nombra **problema primal**.\n",
    "\n",
    "```"
   ]
  },
  {
   "cell_type": "markdown",
   "metadata": {},
   "source": [
    "En lo que continúa se asume que $f_i$, $h_i$ son funciones de clase $\\mathcal{C}^2$ en sus dominios respectivos."
   ]
  },
  {
   "cell_type": "markdown",
   "metadata": {},
   "source": [
    "### Ejemplo 1"
   ]
  },
  {
   "cell_type": "markdown",
   "metadata": {},
   "source": [
    "Considérese el siguiente problema de optimización:"
   ]
  },
  {
   "cell_type": "markdown",
   "metadata": {},
   "source": [
    "$$\\min x_1 + x_2$$\n",
    "\n",
    "$$\\text{sujeto a:}$$\n",
    "\n",
    "$$x_1^2 + x_2^2 -2 = 0$$"
   ]
  },
  {
   "cell_type": "markdown",
   "metadata": {},
   "source": [
    "En el cual:\n",
    "\n",
    "$$\n",
    "\\nabla f_o(x) = \n",
    "\\left [\n",
    "\\begin{array}{c}\n",
    "1 \\\\\n",
    "1\n",
    "\\end{array}\n",
    "\\right ],\n",
    "\\nabla h_1(x) =\n",
    "\\left [\n",
    "\\begin{array}{c}\n",
    "2x_1 \\\\\n",
    "2x_2\n",
    "\\end{array}\n",
    "\\right ]\n",
    "$$"
   ]
  },
  {
   "cell_type": "markdown",
   "metadata": {},
   "source": [
    "de modo que al evaluar en diferentes puntos los gradientes anteriores se tiene una situación siguiente:"
   ]
  },
  {
   "cell_type": "markdown",
   "metadata": {},
   "source": [
    "<img src=\"https://dl.dropboxusercontent.com/s/c3tpza1q05kc5no/ej1_CIEO_problems.png?dl=0\" heigth=\"500\" width=\"500\">\n",
    "\n"
   ]
  },
  {
   "cell_type": "markdown",
   "metadata": {},
   "source": [
    "Por el dibujo anterior se tiene que el conjunto de factibilidad para este problema es una circunferencia de radio $\\sqrt{2}$ con centro en el origen. Se puede observar además que $x^* = \\left [ \\begin{array}{c}-1 \\\\ -1 \\end{array} \\right ]$ pues si estuviéramos en cualquier otro punto, por ejemplo en el punto $x = \\left [ \\begin{array}{c}\\sqrt{2} \\\\0 \\end{array} \\right ]$ entonces cualquier movimiento en dirección en sentido de las manecillas del reloj reducirá el valor de $f_o$."
   ]
  },
  {
   "cell_type": "markdown",
   "metadata": {},
   "source": [
    "También se observa en el dibujo anterior que en la solución $x^*$, se cumple que:\n",
    "\n",
    "$$\\nabla f_o(x^*) = - \\nu_1^*\\nabla h_1(x^*),$$\n",
    "\n"
   ]
  },
  {
   "cell_type": "markdown",
   "metadata": {},
   "source": [
    "esto es, son paralelos, de hecho, $\\nu_1^* = \\frac{1}{2}$."
   ]
  },
  {
   "cell_type": "markdown",
   "metadata": {},
   "source": [
    "```{margin}\n",
    "\n",
    "Recuérdese que si $x$ es factible entonces $h_1(x) = 0$ y si  $\\nabla f_o(x) \\neq 0$ entonces no es óptimo.\n",
    "\n",
    "```"
   ]
  },
  {
   "cell_type": "markdown",
   "metadata": {},
   "source": [
    "Usando el teorema de Taylor aplicado a $h_1$ y asumiendo que $x$ es un punto factible, $\\nabla f_o(x) \\neq 0$ y $\\Delta x$ una dirección de descenso de longitud pequeña tal que mantiene factibilidad se tiene que:"
   ]
  },
  {
   "cell_type": "markdown",
   "metadata": {},
   "source": [
    "$$0 = h_1(x + \\Delta x) \\approx h_1(x) + \\nabla h_1(x)^T \\Delta x = \\nabla h_1(x)^T \\Delta x.$$"
   ]
  },
  {
   "cell_type": "markdown",
   "metadata": {},
   "source": [
    "En resúmen, si el paso $\\Delta x$ mantiene la factibilidad entonces:\n",
    "\n",
    "$$\\nabla h_1(x)^T \\Delta x = 0.$$ \n",
    "\n",
    "Además, como es dirección de descenso:\n",
    "\n",
    "$$\\nabla f_o (x)^T \\Delta x < 0.$$"
   ]
  },
  {
   "cell_type": "markdown",
   "metadata": {},
   "source": [
    "Si $x$ no es mínimo local entonces existe tal dirección $\\Delta x$, análogamente si no existe tal dirección entonces $x$ es un mínimo local. En el dibujo anterior se verifica visualmente esto pues si ambos gradientes no son paralelos entonces podemos elegir una dirección de descenso que satisfaga ambas condiciones anteriores."
   ]
  },
  {
   "cell_type": "markdown",
   "metadata": {},
   "source": [
    "```{admonition} Observación\n",
    ":class: tip\n",
    "\n",
    "Obsérvese que si $x^*$ es mínimo local entonces $\\nabla f_o(x^*) = 0$ (condición necesaria de primer orden) por lo que no existen direcciones de descenso.\n",
    "\n",
    "```"
   ]
  },
  {
   "cell_type": "markdown",
   "metadata": {},
   "source": [
    "### La función Lagrangiana"
   ]
  },
  {
   "cell_type": "markdown",
   "metadata": {},
   "source": [
    "```{admonition} Definición\n",
    "\n",
    "La **función Lagrangiana** asociada al problema de optimización (primal) se define como: \n",
    "\n",
    "$$\\mathcal{L}: \\mathbb{R}^n \\times \\mathbb{R}^m \\times \\mathbb{R}^p \\rightarrow \\mathbb{R}$$\n",
    "\n",
    "con:\n",
    "\n",
    "$$\\mathcal{L}(x, \\lambda , \\nu) = f_o(x) + \\displaystyle \\sum_{i=1}^m \\lambda_i f_i(x) + \\sum_{i=1}^p \\nu_i h_i(x)$$\n",
    "\n",
    "y $\\text{dom} \\mathcal{L} = \\mathcal{D} \\times \\mathbb{R}^m \\times \\mathbb{R}^p$ donde: $\\mathcal{D}$ es el dominio del problema de optimización. \n",
    "\n",
    "En lo que continúa se asume la restricción $\\lambda_i \\geq 0 \\forall i=1,\\dots, m$.\n",
    "\n",
    "```"
   ]
  },
  {
   "cell_type": "markdown",
   "metadata": {},
   "source": [
    "```{admonition} Comentarios\n",
    "\n",
    "* $\\lambda _i$ se le nombra **multiplicador de Lagrange** asociado con la $i$-ésima restricción de desigualdad $f_i(x) \\leq 0$. \n",
    "\n",
    "* $\\nu_i$ se le nombra **multiplicador de Lagrange** asociado con la $i$-ésima restricción de igualdad $h_i(x)=0$.\n",
    "\n",
    "* Los vectores $\\lambda = (\\lambda_i)_{i=1}^m$ y  $\\nu = (\\nu_i)_{i=1}^p \\in \\mathbb{R}^p$ se les nombran **variables duales** o **vectores de multiplicadores de Lagrange** asociados con el problema de optimización. El vector $x \\in \\mathcal{D}$ se le nombra **variable primal**.\n",
    "\n",
    "```"
   ]
  },
  {
   "cell_type": "markdown",
   "metadata": {},
   "source": [
    "Para el ejemplo anterior se tiene:\n",
    "\n",
    "$$\\mathcal{L}(x, \\lambda_1) = f_o(x) + \\nu_1 h_1(x).$$\n",
    "\n",
    "Obsérvese que $\\nabla_x \\mathcal{L}(x, \\nu_1) = \\nabla f_o(x) + \\nu_1 h_1(x)$ y en la solución $x^*$, existe $\\nu_1^*$ tal que $\\nabla_x \\mathcal{L} (x^*, \\nu_1^*)= 0$."
   ]
  },
  {
   "cell_type": "markdown",
   "metadata": {},
   "source": [
    "```{admonition} Observación\n",
    ":class: tip\n",
    "\n",
    "La notación $\\nabla_x g(x, y)$ hace referencia al gradiente de $g(x,y)$ sólo derivando respecto a $x$.\n",
    "\n",
    "```"
   ]
  },
  {
   "cell_type": "markdown",
   "metadata": {},
   "source": [
    "```{admonition} Comentario\n",
    "\n",
    "Aunque la condición \n",
    "\n",
    "$$\\nabla f_o(x^*) = - \\nu_1^*\\nabla h_1(x^*)$$\n",
    "\n",
    "es necesaria, ésta no es suficiente pues se satisface en el punto $x^* = \\left [ \\begin{array}{c}1 \\\\ 1 \\end{array} \\right ]$ para el ejemplo anterior con $\\nu_1 = -\\frac{1}{2}$ pero este punto **maximiza** $f_o$ en la circunferencia. Y no se puede satisfacer suficiencia simplemente colocando una restricción sobre el signo de $\\nu_1$ pues si por ejemplo se pide que $\\nu_1 < 0$ y consideramos la restricción $2-x_1^2-x_2^2=0$, la solución **sigue** siendo $(-1, -1)^T$ pero $\\nu_1^*=-\\frac{1}{2}$.\n",
    "\n",
    "```"
   ]
  },
  {
   "cell_type": "markdown",
   "metadata": {},
   "source": [
    "### Ejemplo 2"
   ]
  },
  {
   "cell_type": "markdown",
   "metadata": {},
   "source": [
    "$$\\min x_1 + x_2$$\n",
    "\n",
    "$$\\text{sujeto a:}$$\n",
    "\n",
    "$$x_1^2 + x_2^2 -2 \\leq 0$$"
   ]
  },
  {
   "cell_type": "markdown",
   "metadata": {},
   "source": [
    "Para este ejemplo el conjunto de factibilidad es el interior y frontera del círculo:"
   ]
  },
  {
   "cell_type": "markdown",
   "metadata": {},
   "source": [
    "<img src=\"https://dl.dropboxusercontent.com/s/bsdo84p22y9qgg7/ej2a_CIEO_problems.png?dl=0\" heigth=\"350\" width=\"350\">\n"
   ]
  },
  {
   "cell_type": "markdown",
   "metadata": {},
   "source": [
    "Obsérvese en el dibujo anterior que $-\\nabla f_1(x)$ apunta al interior del conjunto de factibilidad.\n",
    "\n",
    "La solución de este problema sigue siendo $x^* = \\left [ \\begin{array}{c}-1 \\\\ -1 \\end{array} \\right ]$ con $\\lambda_1^* = \\frac{1}{2}$ al igual que en el ejemplo 1 con $x_1^2 + x_2^2 -2 = 0$. Sin embargo, la diferencia con el ejemplo anterior es que el signo $\\lambda_1$ es importante como se describirá a continuación.\n"
   ]
  },
  {
   "cell_type": "markdown",
   "metadata": {},
   "source": [
    "Si $x$ no es óptimo entonces como en el ejemplo anterior podemos encontrar una dirección $\\Delta x$ que satisfaga factibilidad, $f_1(x) \\leq 0$, y reduzca $f_o$. "
   ]
  },
  {
   "cell_type": "markdown",
   "metadata": {},
   "source": [
    "```{margin}\n",
    "\n",
    "Recuérdese que si $x$ es factible entonces $f_1(x) \\leq 0$ y si  $\\nabla f_o(x) \\neq 0$ entonces no es óptimo.\n",
    "\n",
    "```"
   ]
  },
  {
   "cell_type": "markdown",
   "metadata": {},
   "source": [
    "Usando el teorema de Taylor aplicado a $f_1$ y asumiendo que $x$ es un punto factible, $\\nabla f_o(x) \\neq 0$ y $\\Delta x$ una dirección de descenso de longitud pequeña tal que mantiene factibilidad se tiene que:"
   ]
  },
  {
   "cell_type": "markdown",
   "metadata": {},
   "source": [
    "$$f_1(x) + \\nabla f_1(x)^T \\Delta x \\approx f_1(x + \\Delta x) \\leq 0$$"
   ]
  },
  {
   "cell_type": "markdown",
   "metadata": {},
   "source": [
    "En resúmen, si el paso $\\Delta x$ mantiene la factibilidad entonces:\n",
    "\n",
    "$$f_1(x) + \\nabla f_1(x)^T \\Delta x \\leq 0.$$ \n",
    "\n",
    "Además, como es dirección de descenso:\n",
    "\n",
    "$$\\nabla f_o (x)^T \\Delta x < 0.$$"
   ]
  },
  {
   "cell_type": "markdown",
   "metadata": {},
   "source": [
    "Tenemos que analizar dos casos dependiendo si $f_1$ es o no aciva en $x$ para la desigualdad $f_1(x) + \\nabla f_1(x)^T \\Delta x  \\leq 0$:"
   ]
  },
  {
   "cell_type": "markdown",
   "metadata": {},
   "source": [
    "```{margin}\n",
    "\n",
    "Recuérdese que una restricción de desigualdad $f_1$ es activa en $x$ si $f_1(x) = 0$ e inactiva en $x$ si $f_1(x) < 0$.\n",
    "\n",
    "```"
   ]
  },
  {
   "cell_type": "markdown",
   "metadata": {},
   "source": [
    "**Caso $f_1$ inactiva en $x$: $f_1(x) < 0$,** entonces $x$ está dentro del círculo:\n"
   ]
  },
  {
   "cell_type": "markdown",
   "metadata": {},
   "source": [
    "<img src=\"https://dl.dropboxusercontent.com/s/gmqje4tlp7qnkll/ej2b_CIEO_problems.png?dl=0\" heigth=\"300\" width=\"300\">\n"
   ]
  },
  {
   "cell_type": "markdown",
   "metadata": {},
   "source": [
    "En este caso **cualquier** dirección $\\Delta x$ cuya longitud sea suficientemente pequeña satisface $f_1(x) + \\nabla f_1(x)^T \\Delta x < 0$ si $\\nabla f_o(x) \\neq 0$ (por ejemplo tómese $\\Delta x$ como $-\\nabla f_o(x)$ normalizado y suficientemente pequeño). Si $\\nabla f_o(x) = 0$ entonces $x$ es un punto crítico que podría ser mínimo local (por ejemplo si añadimos una segunda restricción que comparta el interior del círculo y que sea activa)."
   ]
  },
  {
   "cell_type": "markdown",
   "metadata": {},
   "source": [
    "```{margin}\n",
    "\n",
    "Recuérdese que una restricción de desigualdad $f_1$ es activa en $x$ si $f_1(x) = 0$ e inactiva en $x$ si $f_1(x) < 0$.\n",
    "\n",
    "```"
   ]
  },
  {
   "cell_type": "markdown",
   "metadata": {},
   "source": [
    "**Caso $f_1$ activa en $x$: $f_1(x) = 0$,** entonces $x$ está en la frontera del círculo:\n"
   ]
  },
  {
   "cell_type": "markdown",
   "metadata": {},
   "source": [
    "<img src=\"https://dl.dropboxusercontent.com/s/4vb2p814hzkaaz0/ej2c_CIEO_problems.png?dl=0\" heigth=\"300\" width=\"300\">\n"
   ]
  },
  {
   "cell_type": "markdown",
   "metadata": {},
   "source": [
    "La condición que se debe satisfacer es:"
   ]
  },
  {
   "cell_type": "markdown",
   "metadata": {},
   "source": [
    "$$f_1(x) + \\nabla f_1(x)^T \\Delta x  = \\nabla f_1(x)^T \\Delta x  \\leq 0.$$ \n",
    "\n"
   ]
  },
  {
   "cell_type": "markdown",
   "metadata": {},
   "source": [
    "la cual junto con la de descenso: $\\nabla f_o(x) ^T \\Delta x < 0$ definen un semi-espacio cerrado y uno abierto respectivamente:"
   ]
  },
  {
   "cell_type": "markdown",
   "metadata": {},
   "source": [
    "<img src=\"https://dl.dropboxusercontent.com/s/u0c913adjj7et36/ej2d_CIEO_problems.pn?dl=0\" heigth=\"500\" width=\"500\">\n"
   ]
  },
  {
   "cell_type": "markdown",
   "metadata": {},
   "source": [
    "Si $\\nabla f_o(x)$ y $\\nabla f_1(x)$ apuntan a la misma dirección entonces la intersección entre estas dos regiones es vacía:"
   ]
  },
  {
   "cell_type": "markdown",
   "metadata": {},
   "source": [
    "<img src=\"https://dl.dropboxusercontent.com/s/3u9getvoac8ez6c/ej2e_CIEO_problems.png?dl=0\" heigth=\"400\" width=\"400\">\n",
    "\n"
   ]
  },
  {
   "cell_type": "markdown",
   "metadata": {},
   "source": [
    "siendo paralelos $\\nabla f_o(x)$ y $\\nabla f_1(x)$: $\\nabla f_o(x) = -\\lambda_1 \\nabla f_1(x)$ para algún $\\lambda_1 \\geq 0$ en la situación que $x$ **sea mínimo**, esto es: $x=x^*$."
   ]
  },
  {
   "cell_type": "markdown",
   "metadata": {},
   "source": [
    "En este caso el signo del multiplicador **sí es importante** pues si $\\nabla f_o(x) = -\\lambda_1 \\nabla f_1(x)$  con $\\lambda_1 \\leq 0$ entonces $\\nabla f_o(x)$ y $\\nabla f_1(x)$ apuntarían en diferentes direcciones y por tanto el conjunto de direcciones que satisfacen:\n",
    "\n",
    "$$\\nabla f_1(x)^T \\Delta x  \\leq 0.$$ \n",
    "\n",
    "$$\\nabla f_o(x) ^T \\Delta x < 0$$\n",
    "\n",
    "construirían un semi-espacio abierto. Esto daría la posibilidad a tener una infinidad de direcciones de descenso:"
   ]
  },
  {
   "cell_type": "markdown",
   "metadata": {},
   "source": [
    "<img src=\"https://dl.dropboxusercontent.com/s/7ehkg9zg9vkthp4/ej2f_CIEO_problems.png?dl=0\" heigth=\"400\" width=\"400\">\n",
    "\n"
   ]
  },
  {
   "cell_type": "markdown",
   "metadata": {},
   "source": [
    "lo cual sería una contradicción **para $x$ mínimo** pues se tendría $\\nabla f_o(x) =0$ por condición necesaria de primer orden y no existiría $\\Delta x$ tal que es dirección de descenso."
   ]
  },
  {
   "cell_type": "markdown",
   "metadata": {},
   "source": [
    "Ambas condiciones para los casos anteriores se pueden obtener a partir de la función Lagrangiana: \n",
    "\n",
    "$$\\mathcal{L}(x, \\lambda_1) = f_o(x) + \\lambda_1 f_1(x).$$\n",
    "\n",
    "\n",
    "Si no existe $\\Delta x$ en un punto $x^*$ entonces:\n",
    "\n",
    "$$\\nabla_x \\mathcal{L}(x^*, \\lambda_1^*) = \\nabla f_o(x^*) + \\lambda_1^* f_1(x^*) = 0$$\n",
    "\n"
   ]
  },
  {
   "cell_type": "markdown",
   "metadata": {},
   "source": [
    "Y de acuerdo a los dos casos anteriores es importante el signo de $\\lambda_1^*$. Para la condición $\\lambda_1^* \\geq 0$ requerimos la condición con nombre **condición de complementariedad u holgura complementaria**:"
   ]
  },
  {
   "cell_type": "markdown",
   "metadata": {},
   "source": [
    "$$\\lambda_1^* f_1(x^*) = 0$$"
   ]
  },
  {
   "cell_type": "markdown",
   "metadata": {},
   "source": [
    "pues obsérvese que el caso en el que $f_1$ es inactiva en $x^*$ entonces por esta condición $\\lambda_1^* = 0$ y por tanto $\\nabla_x \\mathcal{L}(x^*, \\lambda_1^*) = \\nabla f_o(x^*) = 0$. En el caso que $f_1$ es activa en $x^*$ entonces $\\lambda_1^*$ puede tomar cualquier valor en $\\mathbb{R}$ pero por los dos dibujos anteriores se debe cumplir que $\\lambda_1^* \\geq 0$ para consistencia con que $x^*$ es mínimo."
   ]
  },
  {
   "cell_type": "markdown",
   "metadata": {},
   "source": [
    "```{admonition} Comentario\n",
    "\n",
    "La condición de holgura complementaria indica que si $\\lambda_1$ es positivo entonces $f_1$ es activa:\n",
    "\n",
    "$$\\lambda_1 >0 \\implies f_1(x) = 0$$\n",
    "\n",
    "o bien:\n",
    "\n",
    "$$f_1(x) <0 \\implies \\lambda_1 =0$$\n",
    "\n",
    "```"
   ]
  },
  {
   "cell_type": "markdown",
   "metadata": {},
   "source": [
    "### Ejemplo 3"
   ]
  },
  {
   "cell_type": "markdown",
   "metadata": {},
   "source": [
    "$$\\min x_1 + x_2$$\n",
    "\n",
    "$$\\text{sujeto a:}$$\n",
    "\n",
    "$$x_1^2 + x_2^2 -2 \\leq 0$$\n",
    "\n",
    "$$-x_2 \\leq 0$$"
   ]
  },
  {
   "cell_type": "markdown",
   "metadata": {},
   "source": [
    "Para este ejemplo el conjunto de factibilidad es el interior de la mitad superior del círculo (incluyendo su frontera):"
   ]
  },
  {
   "cell_type": "markdown",
   "metadata": {},
   "source": [
    "<img src=\"https://dl.dropboxusercontent.com/s/nrm0hywrxn6rmn0/ej3a_CIEO_problems.png?dl=0\" heigth=\"400\" width=\"400\">\n"
   ]
  },
  {
   "cell_type": "markdown",
   "metadata": {},
   "source": [
    "$$\\nabla f_1(x) = \\left [\n",
    "\\begin{array}{c}\n",
    "2x_1 \\\\\n",
    "2x_2 \\\\\n",
    "\\end{array}\n",
    "\\right],\n",
    "\\nabla f_2(x) = \\left [\n",
    "\\begin{array}{c}\n",
    "0 \\\\\n",
    "-1 \\\\\n",
    "\\end{array}\n",
    "\\right]\n",
    "$$"
   ]
  },
  {
   "cell_type": "markdown",
   "metadata": {},
   "source": [
    "```{margin}\n",
    "\n",
    "$f_1(x) = x_1^2 + x_2^2 -2$, $f_2(x) = -x_2$\n",
    "\n",
    "```"
   ]
  },
  {
   "cell_type": "markdown",
   "metadata": {},
   "source": [
    "La solución para este ejemplo es $x^* = \\left [ \\begin{array}{c}-\\sqrt{2} \\\\ 0 \\end{array} \\right ]$, un punto en el que ambas restricciones $f_1(x) = x_1^2 + x_2^2 -2$, $f_2(x) = -x_2$ son activas. \n",
    "\n",
    "Siguiendo con el desarrollo del ejemplo 2 de aproximación a primer orden con el teorema de Taylor se tiene que una dirección de descenso $\\Delta x$ debe cumplir:"
   ]
  },
  {
   "cell_type": "markdown",
   "metadata": {},
   "source": [
    "$$\\nabla f_1(x)^T \\Delta x \\leq 0$$"
   ]
  },
  {
   "cell_type": "markdown",
   "metadata": {},
   "source": [
    "$$\\nabla f_2(x)^T \\Delta x \\leq 0$$"
   ]
  },
  {
   "cell_type": "markdown",
   "metadata": {},
   "source": [
    "$$\\nabla f_o(x)^T \\Delta x < 0$$"
   ]
  },
  {
   "cell_type": "markdown",
   "metadata": {},
   "source": [
    "**No existe** tal dirección $\\Delta x$ en el mínimo $x^* = \\left [ \\begin{array}{c}-\\sqrt{2} \\\\ 0 \\end{array} \\right ]$:"
   ]
  },
  {
   "cell_type": "markdown",
   "metadata": {},
   "source": [
    "<img src=\"https://dl.dropboxusercontent.com/s/9pulmvgd21qmiu3/ej3b_CIEO_problems.png?dl=0\" heigth=\"450\" width=\"450\">\n"
   ]
  },
  {
   "cell_type": "markdown",
   "metadata": {},
   "source": [
    "En este caso la función Lagrangiana es: $\\mathcal{L}(x, \\lambda_1) = f_o(x) + \\lambda_1 f_1(x) + \\lambda_2 f_2(x)$ y por el ejemplo 2 si no existe $\\Delta x$ en un punto $x^*$ entonces:\n",
    "\n",
    "$$\\nabla_x \\mathcal{L}(x^*, \\lambda^*) = 0$$\n",
    "\n",
    "$$\\lambda^* \\geq 0$$\n",
    "\n",
    "considerando $\\lambda^*$ al vector de multiplicadores de Lagrange que contiene $\\lambda_1^*, \\lambda_2^*$ y la última desigualdad se refiere a que $\\lambda_1^*, \\lambda_2^* \\geq 0$. Además la condición de holgura complementaria es:\n",
    "\n",
    "$$\\lambda_1^*f_1(x^*) = 0$$\n",
    "\n",
    "$$\\lambda_2^*f_2(x^*) = 0$$"
   ]
  },
  {
   "cell_type": "markdown",
   "metadata": {},
   "source": [
    "Para el punto $x^* = \\left [ \\begin{array}{c}-\\sqrt{2} \\\\ 0 \\end{array} \\right ]$ se tiene:"
   ]
  },
  {
   "cell_type": "markdown",
   "metadata": {},
   "source": [
    "```{margin}\n",
    "\n",
    "$f_1(x) = x_1^2 + x_2^2 -2$, $f_2(x) = -x_2$\n",
    "\n",
    "```"
   ]
  },
  {
   "cell_type": "markdown",
   "metadata": {},
   "source": [
    "$$\\nabla f_o(x^*) = \\left [\n",
    "\\begin{array}{c}\n",
    "1 \\\\\n",
    "1 \\\\\n",
    "\\end{array}\n",
    "\\right],\n",
    "\\nabla f_1(x^*) = \\left [\n",
    "\\begin{array}{c}\n",
    "-2\\sqrt{2} \\\\\n",
    "0 \\\\\n",
    "\\end{array}\n",
    "\\right],\n",
    "\\nabla f_2(x^*) = \\left [\n",
    "\\begin{array}{c}\n",
    "0 \\\\\n",
    "-1 \\\\\n",
    "\\end{array}\n",
    "\\right]\n",
    "$$"
   ]
  },
  {
   "cell_type": "markdown",
   "metadata": {},
   "source": [
    "Y con $\\lambda^* = \\left [ \\begin{array}{c} \\frac{1}{2\\sqrt{2}} \\\\ 1 \\end{array} \\right ]$ se cumple:\n",
    "\n",
    "$$\\begin{eqnarray}\n",
    "\\nabla_x \\mathcal{L}(x^*, \\lambda^*) &=& \\nabla f_o(x^*) + \\lambda^{*T} \\left ( \\nabla f_1(x^*) \\quad \\nabla f_2(x^*) \\right )\\nonumber \\\\\n",
    "&=& \\nabla f_o(x^*) + \\lambda_1^* \\nabla f_1(x^*) + \\lambda_2^* \\nabla f_2(x^*) = 0 \\nonumber\n",
    "\\end{eqnarray}\n",
    "$$"
   ]
  },
  {
   "cell_type": "markdown",
   "metadata": {},
   "source": [
    "Por tanto $x^*$ es mínimo local y no existe dirección de descenso $\\Delta x$."
   ]
  },
  {
   "cell_type": "markdown",
   "metadata": {},
   "source": [
    "Para un punto diferente a $x^*$ por ejemplo $x = \\left [ \\begin{array}{c}\\sqrt{2} \\\\ 0 \\end{array} \\right ]$ ambas restricciones $f_1$ y $f_2$ son activas:"
   ]
  },
  {
   "cell_type": "markdown",
   "metadata": {},
   "source": [
    "<img src=\"https://dl.dropboxusercontent.com/s/vh6xjjwifzgjye9/ej3c_CIEO_problems.png?dl=0\" heigth=\"400\" width=\"400\">\n"
   ]
  },
  {
   "cell_type": "markdown",
   "metadata": {},
   "source": [
    "$$\\nabla f_o(x) = \\left [\n",
    "\\begin{array}{c}\n",
    "1 \\\\\n",
    "1 \\\\\n",
    "\\end{array}\n",
    "\\right],\n",
    "\\nabla f_1(x) = \\left [\n",
    "\\begin{array}{c}\n",
    "2\\sqrt{2} \\\\\n",
    "0 \\\\\n",
    "\\end{array}\n",
    "\\right],\n",
    "\\nabla f_2(x) = \\left [\n",
    "\\begin{array}{c}\n",
    "0 \\\\\n",
    "-1 \\\\\n",
    "\\end{array}\n",
    "\\right]\n",
    "$$"
   ]
  },
  {
   "cell_type": "markdown",
   "metadata": {},
   "source": [
    "```{margin}\n",
    "\n",
    "$f_1(x) = x_1^2 + x_2^2 -2$, $f_2(x) = -x_2$\n",
    "\n",
    "```"
   ]
  },
  {
   "cell_type": "markdown",
   "metadata": {},
   "source": [
    "Y el vector $\\Delta x = \\left [ \\begin{array}{c}-1 \\\\ 0 \\end{array} \\right ]$ satisface las restricciones:"
   ]
  },
  {
   "cell_type": "markdown",
   "metadata": {},
   "source": [
    "$$\\nabla f_1(x)^T \\Delta x \\leq 0$$"
   ]
  },
  {
   "cell_type": "markdown",
   "metadata": {},
   "source": [
    "$$\\nabla f_2(x)^T \\Delta x \\leq 0$$"
   ]
  },
  {
   "cell_type": "markdown",
   "metadata": {},
   "source": [
    "$$\\nabla f_o(x)^T \\Delta x < 0$$"
   ]
  },
  {
   "cell_type": "markdown",
   "metadata": {},
   "source": [
    "<img src=\"https://dl.dropboxusercontent.com/s/gfcfk8bzoej9hff/ej3d_CIEO_problems.png?dl=0\" heigth=\"450\" width=\"450\">"
   ]
  },
  {
   "cell_type": "markdown",
   "metadata": {},
   "source": [
    "Revisando si tal punto satisface:\n",
    "\n",
    "$$\\nabla_x \\mathcal{L}(x, \\lambda) = 0$$\n",
    "\n",
    "$$\\lambda \\geq 0$$\n",
    "\n",
    "$$\\lambda_1f_1(x) = 0$$\n",
    "\n",
    "$$\\lambda_2f_2(x) = 0$$"
   ]
  },
  {
   "cell_type": "markdown",
   "metadata": {},
   "source": [
    "Si $\\lambda = \\left [ \\begin{array}{c}\\frac{-1}{2\\sqrt{2}} \\\\ 1 \\end{array} \\right ]$ entonces $\\nabla_x \\mathcal{L}(x, \\lambda) = 0$ pero $\\lambda_1 <0$."
   ]
  },
  {
   "cell_type": "markdown",
   "metadata": {},
   "source": [
    "Por lo tanto sí existe $\\Delta x$ de descenso y $x$ no es mínimo."
   ]
  },
  {
   "cell_type": "markdown",
   "metadata": {},
   "source": [
    "Para un punto diferente a $x^*$ en el interior del conjunto de factibilidad por ejemplo $x = \\left [ \\begin{array}{c}1 \\\\ 0 \\end{array} \\right ]$ sólo la restricción $f_2$ es activa:"
   ]
  },
  {
   "cell_type": "markdown",
   "metadata": {},
   "source": [
    "<img src=\"https://dl.dropboxusercontent.com/s/9e7vhbvsc0253yp/ej3f_CIEO_problems.png?dl=0\" heigth=\"400\" width=\"400\">"
   ]
  },
  {
   "cell_type": "markdown",
   "metadata": {},
   "source": [
    "$$\\nabla f_o(x) = \\left [\n",
    "\\begin{array}{c}\n",
    "1 \\\\\n",
    "1 \\\\\n",
    "\\end{array}\n",
    "\\right],\n",
    "\\nabla f_1(x) = \\left [\n",
    "\\begin{array}{c}\n",
    "2\\\\\n",
    "0 \\\\\n",
    "\\end{array}\n",
    "\\right],\n",
    "\\nabla f_2(x) = \\left [\n",
    "\\begin{array}{c}\n",
    "0 \\\\\n",
    "-1 \\\\\n",
    "\\end{array}\n",
    "\\right]\n",
    "$$"
   ]
  },
  {
   "cell_type": "markdown",
   "metadata": {},
   "source": [
    "```{margin}\n",
    "\n",
    "$f_1(x) = x_1^2 + x_2^2 -2$, $f_2(x) = -x_2$\n",
    "\n",
    "```"
   ]
  },
  {
   "cell_type": "markdown",
   "metadata": {},
   "source": [
    "Dado que $f_1$ sólo restringe a estar en el interior del círculo, el vector $\\Delta x$ en este caso debe cumplir con mantener la factibilidad dada por la restricción $f_2$ que representa la parte superior del círculo (incluyendo la frontera). Una dirección $\\Delta x$ suficientemente pequeña cumplirá $f_1$. Entonces $\\Delta x$ debe satisfacer:\n",
    "\n",
    "$$\\nabla f_2(x)^T \\Delta x \\leq 0$$\n",
    "\n",
    "$$\\nabla f_o(x)^T \\Delta x < 0$$\n",
    "\n",
    "\n",
    "para ser de descenso. El vector $\\Delta x = \\left [ \\begin{array}{c}-\\frac{1}{2} \\\\ \\frac{1}{4} \\end{array} \\right ]$ satisface lo anterior y por tanto es de descenso.\n"
   ]
  },
  {
   "cell_type": "markdown",
   "metadata": {},
   "source": [
    "<img src=\"https://dl.dropboxusercontent.com/s/xy0sn8up4ixuf09/ej3e_CIEO_problems.png?dl=0\" heigth=\"400\" width=\"400\">"
   ]
  },
  {
   "cell_type": "markdown",
   "metadata": {},
   "source": [
    "Revisando si tal punto satisface:\n",
    "\n",
    "$$\\nabla_x \\mathcal{L}(x, \\lambda) = 0$$\n",
    "\n",
    "$$\\lambda \\geq 0$$\n",
    "\n",
    "$$\\lambda_1f_1(x) = 0$$\n",
    "\n",
    "$$\\lambda_2f_2(x) = 0$$"
   ]
  },
  {
   "cell_type": "markdown",
   "metadata": {},
   "source": [
    "Para este punto como $f_1$ es inactiva entonces $\\lambda_1 = 0$ por holgura complementaria. Si deseamos que $\\nabla_x \\mathcal{L}(x, \\lambda)=0$ entonces debemos encontrar $\\lambda$ tal que:\n",
    "\n",
    "$$\n",
    "\\begin{eqnarray}\n",
    "\\nabla f_o(x) + \\lambda_1 \\nabla f_1(x) + \\lambda_2 \\nabla f_2(x) &=&  \\left [\n",
    "\\begin{array}{c}\n",
    "1 \\\\\n",
    "1 \\\\\n",
    "\\end{array}\n",
    "\\right] + \n",
    "0 \\cdot\n",
    "\\left [\n",
    "\\begin{array}{c}\n",
    "2\\\\\n",
    "0 \\\\\n",
    "\\end{array}\n",
    "\\right] + \n",
    "\\lambda_2 \\left [\n",
    "\\begin{array}{c}\n",
    "0 \\\\\n",
    "-1 \\\\\n",
    "\\end{array}\n",
    "\\right] \\nonumber \\\\\n",
    "&=&\\left [\n",
    "\\begin{array}{c}\n",
    "1 \\\\\n",
    "1 - \\lambda_2\n",
    "\\end{array}\n",
    "\\right ]\n",
    "=0\n",
    "\\end{eqnarray}\n",
    "$$\n",
    "\n"
   ]
  },
  {
   "cell_type": "markdown",
   "metadata": {},
   "source": [
    "No existe $\\lambda_2$ y por tanto $\\lambda$ que satisfaga la ecuación anterior. Por lo tanto sí existe $\\Delta x$ de descenso y $x$ no es mínimo."
   ]
  },
  {
   "cell_type": "markdown",
   "metadata": {},
   "source": [
    "```{admonition} Comentario\n",
    "\n",
    "En resúmen de los 3 ejemplos anteriores: si $x^*$ es una solución local del {ref}`problema estándar de optimización <PESTOPT>` entonces existen vectores multiplicadores de Lagrange $\\nu^*, \\lambda^*$ para las restricciones de igualdad y desigualdad respectivamente tales que:\n",
    "\n",
    "$$\\nabla_x\\mathcal{L}(x^*, \\nu^*, \\lambda^*) = 0$$\n",
    "\n",
    "$$h_i(x^*) = 0 \\quad \\forall i = 1, \\dots, p$$\n",
    "\n",
    "$$f_i(x^*) = 0 \\quad \\forall i = 1, \\dots, m$$\n",
    "\n",
    "$$\\lambda_i^* \\geq 0 \\quad \\forall i = 1, \\dots, m$$\n",
    "\n",
    "$$\\lambda_i^* f_i(x^*) = 0 \\quad \\forall i = 1, \\dots, m$$\n",
    "\n",
    "**faltan considerar suposiciones importantes para tener completo el resultado** pero los ejemplos anteriores abren camino hacia las **condiciones de [Karush-Kuhn-Tucker](https://en.wikipedia.org/wiki/Karush%E2%80%93Kuhn%E2%80%93Tucker_conditions) (KKT) de optimalidad**.\n",
    "\n",
    "```\n"
   ]
  },
  {
   "cell_type": "markdown",
   "metadata": {},
   "source": [
    "```{admonition} Observación\n",
    ":class: tip\n",
    "\n",
    "Obsérvese que las condiciones KKT de optimalidad son condiciones **necesarias** e involucran información de primer orden.\n",
    "\n",
    "```"
   ]
  },
  {
   "cell_type": "markdown",
   "metadata": {},
   "source": [
    "## Máquina de Soporte Vectorial (SVM) para datos linealmente separables, ejemplo de *Constrained Inequality Convex Optimization* (CICO): "
   ]
  },
  {
   "cell_type": "markdown",
   "metadata": {},
   "source": [
    "### Clasificador lineal"
   ]
  },
  {
   "cell_type": "markdown",
   "metadata": {},
   "source": [
    "Considérese dos conjuntos de puntos en $\\mathbb{R}^n$ cuyos atributos o *features* están dados por $\\{x_1, x_2, \\dots, x_N\\}$, $\\{y_1, y_2, \\dots, y_M\\}$ y tales puntos tienen etiquetas $\\{-1, 1\\}$ respectivamente.\n",
    "\n",
    "El objetivo es encontrar una función $f: \\mathbb{R}^n \\rightarrow \\mathbb{R}$ que sea negativa en el primer conjunto de puntos y positiva en el segundo conjunto de puntos:\n",
    "\n",
    "$$f(x_i) < 0 \\quad \\forall i = 1, \\dots, N$$\n",
    "\n",
    "$$f(y_i) > 0 \\quad \\forall i = 1, \\dots, M$$"
   ]
  },
  {
   "cell_type": "markdown",
   "metadata": {},
   "source": [
    "Si existe tal función entonces $f$ o el conjunto $\\{x : f(x) = 0\\}$ separa o clasifica los $2$ conjuntos de puntos. "
   ]
  },
  {
   "cell_type": "markdown",
   "metadata": {},
   "source": [
    "```{admonition} Observación\n",
    ":class: tip\n",
    "\n",
    "La clasificación puede ser débil que significa: $f(x_i) \\geq 0$, $f(y_i) \\leq 0$.\n",
    "\n",
    "```"
   ]
  },
  {
   "cell_type": "markdown",
   "metadata": {},
   "source": [
    "Para el caso en el que los datos son linealmente separables se busca una función afín de la forma $f(x) = a^Tx - b$ que clasifique los puntos, esto es:\n",
    "\n",
    "$$a^Tx_i - b < 0, \\quad \\forall i=1, \\dots, N$$\n",
    "\n",
    "$$a^Ty_i - b > 0, \\quad \\forall i=1, \\dots, M$$\n"
   ]
  },
  {
   "cell_type": "markdown",
   "metadata": {},
   "source": [
    "Geométricamente se busca un hiperplano de dimensión $n-1$ que separe ambos conjuntos:"
   ]
  },
  {
   "cell_type": "markdown",
   "metadata": {},
   "source": [
    "<img src=\"https://dl.dropboxusercontent.com/s/qvrqz6ciyutzdkf/CIECO_SVM_1.png?dl=0\" heigth=\"300\" width=\"300\">"
   ]
  },
  {
   "cell_type": "markdown",
   "metadata": {},
   "source": [
    "En el dibujo tómese los puntos sin rellenar como los pertenecientes a una clase de $\\{-1, 1\\}$."
   ]
  },
  {
   "cell_type": "markdown",
   "metadata": {},
   "source": [
    "Si $x, y$ son puntos en el hiperplano entonces $f(x) = f(y) = 0$ y además $a^T(x-y) = b - b = 0$, así $a$ es ortogonal a todo punto en el hiperplano y determina la orientación de este:"
   ]
  },
  {
   "cell_type": "markdown",
   "metadata": {},
   "source": [
    "<img src=\"https://dl.dropboxusercontent.com/s/rswe1hzpxxgt88n/CIECO_SVM_2.png?dl=0\" heigth=\"350\" width=\"350\">"
   ]
  },
  {
   "cell_type": "markdown",
   "metadata": {},
   "source": [
    "Si $x$ es un punto en el hiperplano tenemos $f(x) = 0$ por lo tanto la distancia perpendicular del origen al hiperplano está dada por: $\\frac{|a^Tx|}{||a||_2} = \\frac{|-b|}{||a||_2} = \\frac{|b|}{||a||_2}$ y el parámetro $b$ determina la localización del hiperplano:"
   ]
  },
  {
   "cell_type": "markdown",
   "metadata": {},
   "source": [
    "<img src=\"https://dl.dropboxusercontent.com/s/5uyp1d75ovl6sm9/CIECO_SVM_3.png?dl=0\" heigth=\"450\" width=\"450\">"
   ]
  },
  {
   "cell_type": "markdown",
   "metadata": {},
   "source": [
    "Sean $x \\in \\mathbb{R}^n$ y $x_{\\perp} \\in \\mathbb{R}^n$ la proyección ortogonal en el hiperplano:"
   ]
  },
  {
   "cell_type": "markdown",
   "metadata": {},
   "source": [
    "<img src=\"https://dl.dropboxusercontent.com/s/u4pruk4ss53m8oz/CIECO_SVM_4.png?dl=0\" heigth=\"550\" width=\"550\">"
   ]
  },
  {
   "cell_type": "markdown",
   "metadata": {},
   "source": [
    "tenemos: $a^Tx = a^Tx_{\\perp} + k||a||_2 = b + k ||a||_2$ por lo que $a^Tx - b = k||a||_2$ y: \n",
    "\n",
    "$$k = \\frac{a^Tx-b}{||a||_2} = \\frac{f(x)}{||a||_2},$$\n",
    "\n",
    "esto es, $|f(x)|$ da una medida de distancia perpendicular de $x$ al hiperplano."
   ]
  },
  {
   "cell_type": "markdown",
   "metadata": {},
   "source": [
    "### Modelo de SVM"
   ]
  },
  {
   "cell_type": "markdown",
   "metadata": {},
   "source": [
    "En este modelo se desea obtener:\n",
    "\n",
    "$$a^Tx_i - b \\leq -1, \\quad \\forall i=1, \\dots, N$$\n",
    "\n",
    "$$a^Ty_i - b \\geq 1, \\quad \\forall i=1, \\dots, M$$"
   ]
  },
  {
   "cell_type": "markdown",
   "metadata": {},
   "source": [
    "```{admonition} Observación\n",
    ":class: tip\n",
    "\n",
    "El uso de $\\{-1, 1\\}$ ayuda a la escritura y formulación matemática del modelo.\n",
    "\n",
    "```"
   ]
  },
  {
   "cell_type": "markdown",
   "metadata": {},
   "source": [
    "para clasificar a datos linealmente separables:"
   ]
  },
  {
   "cell_type": "markdown",
   "metadata": {},
   "source": [
    "<img src=\"https://dl.dropboxusercontent.com/s/3rxwwrgsudjqv9j/CIECO_SVM_5.png?dl=0\" heigth=\"350\" width=\"350\">"
   ]
  },
  {
   "cell_type": "markdown",
   "metadata": {},
   "source": [
    "Obsérvese que existen una infinidad de hiperplanos que separan a los datos anteriores:"
   ]
  },
  {
   "cell_type": "markdown",
   "metadata": {},
   "source": [
    "<img src=\"https://dl.dropboxusercontent.com/s/hetnb5objatjb8y/CIECO_SVM_6.png?dl=0\" heigth=\"350\" width=\"350\">"
   ]
  },
  {
   "cell_type": "markdown",
   "metadata": {},
   "source": [
    "En la SVM buscamos un hiperplano que tenga la máxima separación de cada una de las distancias de los datos al mismo:"
   ]
  },
  {
   "cell_type": "markdown",
   "metadata": {},
   "source": [
    "<img src=\"https://dl.dropboxusercontent.com/s/arq3kx1rzozjtbv/CIECO_SVM_7.png?dl=0\" heigth=\"400\" width=\"400\">"
   ]
  },
  {
   "cell_type": "markdown",
   "metadata": {},
   "source": [
    "Una distancia al hiperplano para los datos $x_i, \\forall i=1, \\dots, N$ y otra distancia para los datos $y_i \\forall i=1, \\dots, M$."
   ]
  },
  {
   "cell_type": "markdown",
   "metadata": {},
   "source": [
    "Por la sección anterior, la distancia al hiperplano para cada conjunto de datos está dada por:\n",
    "\n",
    "$$\\displaystyle \\min_{i=1,\\dots, N} \\frac{|f(x_i)|}{||a||_2}$$\n",
    "\n",
    "$$\\displaystyle \\min_{i=1,\\dots, M} \\frac{|f(y_i)|}{||a||_2}$$"
   ]
  },
  {
   "cell_type": "markdown",
   "metadata": {},
   "source": [
    "Entonces encontrar un hiperplano que tenga la máxima separación de cada una de las distancias de los datos al hiperplano se puede escribir como el problema:\n",
    "\n",
    "$$\\displaystyle \\max_{a,b} \\left \\{  \\min_{i=1,\\dots, N} \\frac{|f(x_i)|}{||a||_2}  + \\min_{i=1,\\dots, M} \\frac{|f(y_i)|}{||a||_2} \\right \\}$$"
   ]
  },
  {
   "cell_type": "markdown",
   "metadata": {},
   "source": [
    "Obsérvese que el cociente $\\frac{|f(x_i)|}{||a||_2}$ es invariante ante reescalamientos por ejemplo: \n",
    "\n",
    "$$\\frac{ka^Tx - kb}{||ka||_2} = \\frac{a^Tx - b}{||a||_2} \\forall k \\neq 0$$"
   ]
  },
  {
   "cell_type": "markdown",
   "metadata": {},
   "source": [
    "Por tanto, si los índices $i_1, i_2$ cumplen:\n",
    "\n",
    "$$i_1 = \\text{argmin}_{i=1,\\dots, N} \\left \\{\\frac{|f(x_i)|}{||a||_2} \\right \\}$$\n",
    "\n",
    "$$i_2 = \\text{argmin}_{i=1,\\dots, M} \\left \\{\\frac{|f(y_i)|}{||a||_2} \\right \\}$$"
   ]
  },
  {
   "cell_type": "markdown",
   "metadata": {},
   "source": [
    "se puede hacer un reescalamiento para obtener:\n",
    "\n",
    "$$|f(x_{i_1})| = 1, \\quad |f(x_i)| > 1 \\quad \\forall i=1, \\dots, N, i \\neq i_1$$\n",
    "\n",
    "$$|f(y_{i_2})| = 1, \\quad |f(y_i)| > 1 \\quad \\forall i=1, \\dots, M, i \\neq i_2$$"
   ]
  },
  {
   "cell_type": "markdown",
   "metadata": {},
   "source": [
    "Esto es, $|f(x_i)| \\geq 1, \\forall i=1, \\dots, N$, $|f(y_i)| \\geq 1, \\forall i=1, \\dots, M$."
   ]
  },
  {
   "cell_type": "markdown",
   "metadata": {},
   "source": [
    "### Problema de optimización en SVM"
   ]
  },
  {
   "cell_type": "markdown",
   "metadata": {},
   "source": [
    "El problema canónico o estándar de la máquina de soporte vectorial es:"
   ]
  },
  {
   "cell_type": "markdown",
   "metadata": {},
   "source": [
    "$$\\displaystyle \\max_{a,b} \\frac{2}{||a||_2}$$\n",
    "\n",
    "$$\\text{sujeto a:}$$\n",
    "\n",
    "$$f(x_i) \\leq -1, \\quad \\forall i=1, \\dots, N$$\n",
    "\n",
    "$$f(y_i) \\geq 1, \\quad \\forall i=1, \\dots, M$$"
   ]
  },
  {
   "cell_type": "markdown",
   "metadata": {},
   "source": [
    "El cual es equivalente a:"
   ]
  },
  {
   "cell_type": "markdown",
   "metadata": {},
   "source": [
    "$$\\displaystyle \\min_{a,b} \\frac{||a||^2_2}{2}$$\n",
    "\n",
    "$$\\text{sujeto a:}$$\n",
    "\n",
    "$$a^Tx_i - b \\leq -1, \\quad \\forall i=1, \\dots, N$$\n",
    "\n",
    "$$a^Ty_i -b \\geq 1, \\quad \\forall i=1, \\dots, M$$"
   ]
  },
  {
   "cell_type": "markdown",
   "metadata": {},
   "source": [
    "```{admonition} Comentarios\n",
    "\n",
    "* Se ha quitado el valor absoluto $|f(x_i)|, |f(y_i)|$ pues $x_i, y_i$ se asumen cumplen $a^Tx_i-b \\geq 1$, $a^Ty_i-b \\leq -1$, esto es, $x_i, y_i$ son clasificados correctamente.\n",
    "\n",
    "* Este problema es de optimización convexa con restricciones de desigualdad.\n",
    "\n",
    "```"
   ]
  },
  {
   "cell_type": "markdown",
   "metadata": {},
   "source": [
    "### Vectores de soporte"
   ]
  },
  {
   "cell_type": "markdown",
   "metadata": {},
   "source": [
    "Al encontrar este hiperplano tenemos otros dos hiperplanos paralelos ortogonales al vector $a$ sin ningún dato entre ellos a una distancia de $\\frac{1}{||a||_2}$:"
   ]
  },
  {
   "cell_type": "markdown",
   "metadata": {},
   "source": [
    "<img src=\"https://dl.dropboxusercontent.com/s/xvgsf8nsl9oakw6/CIECO_SVM_8.png?dl=0\" heigth=\"350\" width=\"350\">"
   ]
  },
  {
   "cell_type": "markdown",
   "metadata": {},
   "source": [
    "```{admonition} Definición\n",
    "\n",
    "Aquellas restricciones activas son originadas por puntos con el nombre de vectores de soporte.\n",
    "\n",
    "```"
   ]
  },
  {
   "cell_type": "markdown",
   "metadata": {},
   "source": [
    "```{admonition} Comentario\n",
    "\n",
    "Al resolver el problema de optimización siempre existirán al menos $2$ restricciones activas pues siempre hay una distancia mínima para cada conjunto de puntos.\n",
    "\n",
    "```"
   ]
  },
  {
   "cell_type": "markdown",
   "metadata": {},
   "source": [
    "### Ejemplo [Iris *dataset*](https://scikit-learn.org/stable/auto_examples/datasets/plot_iris_dataset.html)"
   ]
  },
  {
   "cell_type": "markdown",
   "metadata": {},
   "source": [
    "Utilizamos el conocido *dataset* de [*Iris*](https://en.wikipedia.org/wiki/Iris_flower_data_set) en el que se muestran **tres especies del género *Iris***. Las especies son: [*I. setosa*](https://en.wikipedia.org/wiki/Iris_setosa), [*I. virginica*](https://en.wikipedia.org/wiki/Iris_virginica) y [*I. versicolor*](https://en.wikipedia.org/wiki/Iris_versicolor):\n",
    "\n",
    "\n",
    "<img src=\"https://dl.dropboxusercontent.com/s/1bvsv79h0h64ijv/iris_dataset_flowers.png?dl=0\" heigth=\"400\" width=\"400\">\n",
    "\n",
    "Imagen obtenida de [Iris Dataset](https://rpubs.com/AjinkyaUC/Iris_DataSet)."
   ]
  },
  {
   "cell_type": "markdown",
   "metadata": {},
   "source": [
    "La clase $\\mathcal{C}_{-1}$ es `setosa` y $\\mathcal{C}_1$ es `versicolor` codificadas como $-1, 1$ respectivamente."
   ]
  },
  {
   "cell_type": "code",
   "execution_count": 90,
   "metadata": {},
   "outputs": [],
   "source": [
    "data_iris_setosa_versicolor = data_iris[0:100].copy()\n",
    "classes = iris[\"target\"][0:100].copy()"
   ]
  },
  {
   "cell_type": "code",
   "execution_count": 91,
   "metadata": {},
   "outputs": [
    {
     "name": "stdout",
     "output_type": "stream",
     "text": [
      "[0 0 0 0 0 0 0 0 0 0 0 0 0 0 0 0 0 0 0 0 0 0 0 0 0 0 0 0 0 0 0 0 0 0 0 0 0\n",
      " 0 0 0 0 0 0 0 0 0 0 0 0 0 1 1 1 1 1 1 1 1 1 1 1 1 1 1 1 1 1 1 1 1 1 1 1 1\n",
      " 1 1 1 1 1 1 1 1 1 1 1 1 1 1 1 1 1 1 1 1 1 1 1 1 1 1]\n"
     ]
    }
   ],
   "source": [
    "print(classes)"
   ]
  },
  {
   "cell_type": "code",
   "execution_count": 92,
   "metadata": {},
   "outputs": [],
   "source": [
    "classes[0:50] = classes[0:50].copy()-1"
   ]
  },
  {
   "cell_type": "code",
   "execution_count": 93,
   "metadata": {},
   "outputs": [
    {
     "name": "stdout",
     "output_type": "stream",
     "text": [
      "[-1 -1 -1 -1 -1 -1 -1 -1 -1 -1 -1 -1 -1 -1 -1 -1 -1 -1 -1 -1 -1 -1 -1 -1\n",
      " -1 -1 -1 -1 -1 -1 -1 -1 -1 -1 -1 -1 -1 -1 -1 -1 -1 -1 -1 -1 -1 -1 -1 -1\n",
      " -1 -1  1  1  1  1  1  1  1  1  1  1  1  1  1  1  1  1  1  1  1  1  1  1\n",
      "  1  1  1  1  1  1  1  1  1  1  1  1  1  1  1  1  1  1  1  1  1  1  1  1\n",
      "  1  1  1  1]\n"
     ]
    }
   ],
   "source": [
    "print(classes)"
   ]
  },
  {
   "cell_type": "markdown",
   "metadata": {},
   "source": [
    "Estandarizamos la matriz de datos:"
   ]
  },
  {
   "cell_type": "code",
   "execution_count": 94,
   "metadata": {},
   "outputs": [],
   "source": [
    "data_iris_setosa_versicolor = (data_iris_setosa_versicolor-\n",
    "                               data_iris_setosa_versicolor.mean(axis=0))/data_iris_setosa_versicolor.std(axis=0)"
   ]
  },
  {
   "cell_type": "markdown",
   "metadata": {},
   "source": [
    "**Añadimos la columna que indica uso de intercepto:**"
   ]
  },
  {
   "cell_type": "code",
   "execution_count": 95,
   "metadata": {},
   "outputs": [],
   "source": [
    "m,n = data_iris_setosa_versicolor.shape"
   ]
  },
  {
   "cell_type": "code",
   "execution_count": 96,
   "metadata": {},
   "outputs": [],
   "source": [
    "data_iris_setosa_versicolor = np.column_stack((-1*np.ones((m,1)), data_iris_setosa_versicolor))"
   ]
  },
  {
   "cell_type": "code",
   "execution_count": 97,
   "metadata": {},
   "outputs": [
    {
     "data": {
      "text/plain": [
       "array([[-1.  , -0.58,  0.84, -1.01, -1.04],\n",
       "       [-1.  , -0.89, -0.21, -1.01, -1.04],\n",
       "       [-1.  , -1.21,  0.21, -1.08, -1.04],\n",
       "       [-1.  , -1.36,  0.  , -0.94, -1.04],\n",
       "       [-1.  , -0.74,  1.05, -1.01, -1.04],\n",
       "       [-1.  , -0.11,  1.68, -0.8 , -0.69],\n",
       "       [-1.  , -1.36,  0.63, -1.01, -0.86],\n",
       "       [-1.  , -0.74,  0.63, -0.94, -1.04],\n",
       "       [-1.  , -1.68, -0.42, -1.01, -1.04],\n",
       "       [-1.  , -0.89,  0.  , -0.94, -1.22]])"
      ]
     },
     "execution_count": 97,
     "metadata": {},
     "output_type": "execute_result"
    }
   ],
   "source": [
    "print(data_iris_setosa_versicolor[0:10, 0:10])"
   ]
  },
  {
   "cell_type": "markdown",
   "metadata": {},
   "source": [
    "Visualizamos para algunos atributos:"
   ]
  },
  {
   "cell_type": "markdown",
   "metadata": {},
   "source": [
    "```{margin}\n",
    "\n",
    "Obsérvese que considerando los atributos `Sepal.Length` y `Sepal.Width` se pueden separar la clase *I. setosa* codificada como $-1$ y la clase *I. versicolor* codificada como $1$ de forma lineal.\n",
    "```"
   ]
  },
  {
   "cell_type": "code",
   "execution_count": 98,
   "metadata": {},
   "outputs": [
    {
     "data": {
      "image/png": "[encoded data removed]",
      "text/plain": [
       "<Figure size 432x288 with 1 Axes>"
      ]
     },
     "metadata": {
      "needs_background": "light"
     },
     "output_type": "display_data"
    }
   ],
   "source": [
    "plt.scatter(data_iris_setosa_versicolor[:, 1], \n",
    "            data_iris_setosa_versicolor[:, 2], c=classes, cmap=plt.cm.Set1,\n",
    "            edgecolor='k')\n",
    "plt.xlabel(\"sepal length\")\n",
    "plt.ylabel(\"sepal width\")\n",
    "plt.show()"
   ]
  },
  {
   "cell_type": "markdown",
   "metadata": {},
   "source": [
    "```{margin}\n",
    "Obsérvese que considerando los atributos `Petal.Length` y `Petal.Width` se pueden separar la clase *I. setosa* codificada como $-1$ y la clase *I. versicolor* codificada como $1$ de forma lineal.\n",
    "\n",
    "```"
   ]
  },
  {
   "cell_type": "code",
   "execution_count": 99,
   "metadata": {},
   "outputs": [
    {
     "data": {
      "image/png": "[encoded data removed]",
      "text/plain": [
       "<Figure size 432x288 with 1 Axes>"
      ]
     },
     "metadata": {
      "needs_background": "light"
     },
     "output_type": "display_data"
    }
   ],
   "source": [
    "plt.scatter(data_iris_setosa_versicolor[:, 3], \n",
    "            data_iris_setosa_versicolor[:, 4], c=classes, cmap=plt.cm.Set1,\n",
    "            edgecolor='k')\n",
    "plt.xlabel(\"petal length\")\n",
    "plt.ylabel(\"petal width\")\n",
    "plt.show()"
   ]
  },
  {
   "cell_type": "markdown",
   "metadata": {},
   "source": [
    "**Función objetivo:**\n",
    "\n",
    "$$\\frac{||a||^2_2}{2}$$\n",
    "\n",
    "**y restricciones:**\n",
    "\n",
    "$$a^Tx_i - b \\leq -1, \\quad \\forall i=1, \\dots, N$$\n",
    "\n",
    "$$a^Ty_i -b \\geq 1, \\quad \\forall i=1, \\dots, M$$"
   ]
  },
  {
   "cell_type": "markdown",
   "metadata": {},
   "source": [
    "```{margin}\n",
    "\n",
    "Ver [cvxpy: svm](https://www.cvxpy.org/examples/machine_learning/svm.html)\n",
    "\n",
    "```"
   ]
  },
  {
   "cell_type": "code",
   "execution_count": 100,
   "metadata": {},
   "outputs": [],
   "source": [
    "n = 5 #number of variables\n",
    "a = cp.Variable(n) #optimization variable\n"
   ]
  },
  {
   "cell_type": "code",
   "execution_count": 101,
   "metadata": {},
   "outputs": [],
   "source": [
    "fo_cvxpy = 1/2*cp.norm(a,2)"
   ]
  },
  {
   "cell_type": "code",
   "execution_count": 102,
   "metadata": {},
   "outputs": [],
   "source": [
    "constraints = [data_iris_setosa_versicolor[0:50,:]@a <=-1,\n",
    "               data_iris_setosa_versicolor[50:100,:]@a >= 1]"
   ]
  },
  {
   "cell_type": "code",
   "execution_count": 103,
   "metadata": {},
   "outputs": [],
   "source": [
    "obj = cp.Minimize(fo_cvxpy)"
   ]
  },
  {
   "cell_type": "code",
   "execution_count": 104,
   "metadata": {},
   "outputs": [
    {
     "name": "stdout",
     "output_type": "stream",
     "text": [
      "0.5675503761085758\n"
     ]
    }
   ],
   "source": [
    "prob = cp.Problem(obj, constraints)\n",
    "print(prob.solve())"
   ]
  },
  {
   "cell_type": "code",
   "execution_count": 105,
   "metadata": {},
   "outputs": [
    {
     "name": "stdout",
     "output_type": "stream",
     "text": [
      "\n",
      "The optimal value is 0.5675503761085758\n",
      "The optimal beta is\n",
      "[-0.21  0.21 -0.32  0.68  0.8 ]\n"
     ]
    }
   ],
   "source": [
    "print(\"\\nThe optimal value is\", prob.value)\n",
    "print(\"The optimal beta is\")\n",
    "print(a.value)\n"
   ]
  },
  {
   "cell_type": "markdown",
   "metadata": {},
   "source": [
    "Los primeros $50$ renglones pertenecen a la clase $\\mathcal{C}_{-1}:$ *I. setosa* y los restantes $50$ renglones pertenecen a la clase $\\mathcal{C}_{1}$: *I. versicolor*. Se clasifica de acuerdo al signo de: $a^Tx - b$:"
   ]
  },
  {
   "cell_type": "code",
   "execution_count": 106,
   "metadata": {},
   "outputs": [
    {
     "data": {
      "text/plain": [
       "array([-1., -1., -1., -1., -1., -1., -1., -1., -1., -1., -1., -1., -1.,\n",
       "       -1., -1., -1., -1., -1., -1., -1., -1., -1., -1., -1., -1., -1.,\n",
       "       -1., -1., -1., -1., -1., -1., -1., -1., -1., -1., -1., -1., -1.,\n",
       "       -1., -1., -1., -1., -1., -1., -1., -1., -1., -1., -1.])"
      ]
     },
     "execution_count": 106,
     "metadata": {},
     "output_type": "execute_result"
    }
   ],
   "source": [
    "print(np.sign(data_iris_setosa_versicolor[0:50,:]@a.value))"
   ]
  },
  {
   "cell_type": "code",
   "execution_count": 107,
   "metadata": {},
   "outputs": [
    {
     "data": {
      "text/plain": [
       "array([1., 1., 1., 1., 1., 1., 1., 1., 1., 1., 1., 1., 1., 1., 1., 1., 1.,\n",
       "       1., 1., 1., 1., 1., 1., 1., 1., 1., 1., 1., 1., 1., 1., 1., 1., 1.,\n",
       "       1., 1., 1., 1., 1., 1., 1., 1., 1., 1., 1., 1., 1., 1., 1., 1.])"
      ]
     },
     "execution_count": 107,
     "metadata": {},
     "output_type": "execute_result"
    }
   ],
   "source": [
    "print(np.sign(data_iris_setosa_versicolor[50:100,:]@a.value))"
   ]
  },
  {
   "cell_type": "markdown",
   "metadata": {},
   "source": [
    "Visualización utilizando únicamente `Sepal.Length` y `Sepal.Width`:"
   ]
  },
  {
   "cell_type": "code",
   "execution_count": 108,
   "metadata": {},
   "outputs": [],
   "source": [
    "x_min = np.min(data_iris_setosa_versicolor[:,1])\n",
    "x_max = np.max(data_iris_setosa_versicolor[:,1])\n",
    "y_min = np.min(data_iris_setosa_versicolor[:,2])\n",
    "y_max = np.max(data_iris_setosa_versicolor[:,2])\n",
    "x_plot = np.linspace(x_min, x_max, 100)"
   ]
  },
  {
   "cell_type": "code",
   "execution_count": 109,
   "metadata": {},
   "outputs": [],
   "source": [
    "y_plot = -a.value[1]/a.value[2]*x_plot + a.value[0]\n",
    "y_plot_minus_1 = -a.value[1]/a.value[2]*x_plot + a.value[0] -1 \n",
    "\n",
    "y_plot_plus_1 = -a.value[1]/a.value[2]*x_plot + a.value[0] + 1"
   ]
  },
  {
   "cell_type": "code",
   "execution_count": 110,
   "metadata": {},
   "outputs": [
    {
     "data": {
      "image/png": "[encoded data removed]",
      "text/plain": [
       "<Figure size 432x288 with 1 Axes>"
      ]
     },
     "metadata": {
      "needs_background": "light"
     },
     "output_type": "display_data"
    }
   ],
   "source": [
    "plt.scatter(data_iris_setosa_versicolor[:, 1], \n",
    "            data_iris_setosa_versicolor[:, 2], c=classes, cmap=plt.cm.Set1,\n",
    "            edgecolor='k')\n",
    "plt.plot(x_plot,y_plot,'b',\n",
    "         x_plot,y_plot_minus_1, 'r',\n",
    "         x_plot, y_plot_plus_1,'r')\n",
    "plt.xlabel(\"sepal length\")\n",
    "plt.ylabel(\"sepal width\")\n",
    "plt.show()"
   ]
  },
  {
   "cell_type": "markdown",
   "metadata": {},
   "source": [
    "Visualización utilizando únicamente `Petal.Length` y `Petal.Width`:"
   ]
  },
  {
   "cell_type": "code",
   "execution_count": 111,
   "metadata": {},
   "outputs": [],
   "source": [
    "x_min = np.min(data_iris_setosa_versicolor[:,3])\n",
    "x_max = np.max(data_iris_setosa_versicolor[:,3])\n",
    "y_min = np.min(data_iris_setosa_versicolor[:,4])\n",
    "y_max = np.max(data_iris_setosa_versicolor[:,4])\n",
    "x_plot = np.linspace(x_min, x_max, 100)"
   ]
  },
  {
   "cell_type": "code",
   "execution_count": 112,
   "metadata": {},
   "outputs": [],
   "source": [
    "y_plot = -a.value[3]/a.value[4]*x_plot + a.value[0]\n",
    "y_plot_minus_1 = -a.value[3]/a.value[4]*x_plot + a.value[0] -1 \n",
    "\n",
    "y_plot_plus_1 = -a.value[3]/a.value[4]*x_plot + a.value[0] + 1"
   ]
  },
  {
   "cell_type": "code",
   "execution_count": 113,
   "metadata": {},
   "outputs": [
    {
     "data": {
      "image/png": "[encoded data removed]",
      "text/plain": [
       "<Figure size 432x288 with 1 Axes>"
      ]
     },
     "metadata": {
      "needs_background": "light"
     },
     "output_type": "display_data"
    }
   ],
   "source": [
    "plt.scatter(data_iris_setosa_versicolor[:, 3], \n",
    "            data_iris_setosa_versicolor[:, 4], c=classes, cmap=plt.cm.Set1,\n",
    "            edgecolor='k')\n",
    "plt.plot(x_plot,y_plot,'b',\n",
    "         x_plot,y_plot_minus_1, 'r',\n",
    "         x_plot, y_plot_plus_1,'r')\n",
    "plt.xlabel(\"petal length\")\n",
    "plt.ylabel(\"petal width\")\n",
    "plt.show()"
   ]
  },
  {
   "cell_type": "markdown",
   "metadata": {},
   "source": [
    "```{admonition} Ejercicio\n",
    ":class: tip\n",
    "\n",
    "Realiza la clasificación anterior para las clases `virginica` y `versicolor`.\n",
    "\n",
    "```"
   ]
  },
  {
   "cell_type": "markdown",
   "metadata": {},
   "source": [
    "## Problemas de programación lineal"
   ]
  },
  {
   "cell_type": "markdown",
   "metadata": {},
   "source": [
    "Una gran cantidad de aplicaciones utilizan formulaciones de problemas de programación lineal que involucran igualdades y desigualdades cuya forma **estándar** está dada por:"
   ]
  },
  {
   "cell_type": "markdown",
   "metadata": {},
   "source": [
    "$$\\min c^Tx$$\n",
    "\n",
    "$$\\text{sujeto a:}$$\n",
    "\n",
    "$$Ax=b$$\n",
    "\n",
    "$$x \\geq 0$$"
   ]
  },
  {
   "cell_type": "markdown",
   "metadata": {},
   "source": [
    "donde: $A \\in \\mathbb{R}^{m \\times n}$ y se **asume** $m \\leq n$ y tiene *rank* completo por renglones y la última desigualdad se refiere a que todas las componentes del vector $x$ son mayores o iguales a cero."
   ]
  },
  {
   "cell_type": "markdown",
   "metadata": {},
   "source": [
    "```{admonition} Observación\n",
    ":class: tip\n",
    "\n",
    "Obsérvese que la función objetivo $f_o(x) = c^Tx$ y tanto las restricciones de igualdad como desigualdad son funciones lineales.\n",
    "\n",
    "```"
   ]
  },
  {
   "cell_type": "markdown",
   "metadata": {},
   "source": [
    "### Ejemplo: problema de transporte"
   ]
  },
  {
   "cell_type": "markdown",
   "metadata": {},
   "source": [
    "La compañía \"Brazilian coffee\" procesa granos de café en $m$ plantas de café. El café posteriormente es enviado cada semana a $n$ almacenes para su *retail*, distribución y exportación. Supóngase que el costo unitario de envío de la planta $i$ al almacén $j$ es $c_{ij}$. También supóngase que la capacidad de producción en la planta $i$ es $a_i$ y que la demanda en el almacén $j$ es $b_j$. \n",
    "\n",
    "Se desea encontrar la cantidad de unidades $x_{ij}$ de café que serán transportadas de la planta $i$ al almacén $j$, $i=1,\\dots, m$, $j=1, \\dots, n$ que minimice el costo total de envío. \n",
    "\n",
    "Este problema es de programación lineal modelado como:\n"
   ]
  },
  {
   "cell_type": "markdown",
   "metadata": {},
   "source": [
    "$$\\underset{i=1,\\dots, m, j=1,\\dots, n}{\\displaystyle \\min_{x_{ij} \\in \\mathbb{R}}} \\sum_{i=1}^m \\sum_{j=1}^n c_{ij}x_{ij}$$\n",
    "\n",
    "$$\\text{sujeto a:}$$\n",
    "\n",
    "$$\\displaystyle \\sum_{j=1}^n x_{ij} \\leq a_i, \\quad i=1,\\dots, m$$\n",
    "\n",
    "$$\\displaystyle \\sum_{i=1}^m x_{ij} = b_j, \\quad j=1, \\dots, n$$\n",
    "\n",
    "$$x_{ij} \\geq 0 \\quad i=1, \\dots, m, j= 1, \\dots, n.$$"
   ]
  },
  {
   "cell_type": "markdown",
   "metadata": {},
   "source": [
    "## Introducción a los métodos de [puntos interiores](https://en.wikipedia.org/wiki/Interior-point_method)"
   ]
  },
  {
   "cell_type": "markdown",
   "metadata": {},
   "source": [
    "```{sidebar} Un poco de historia\n",
    "\n",
    "El desarrollo por Dantzig del [método símplex](https://en.wikipedia.org/wiki/Simplex_algorithm) en los $40$'s marcó el inicio de la era moderna en optimización. Tal método hizo posible que economistas formularan y analizaran modelos grandes en una forma sistemática y eficiente.\n",
    "\n",
    "Hoy en día continúa siendo uno de los métodos más utilizados para resolver programas lineales. Pertenece a una clase general de algoritmos de optimización con restricciones conocida como [métodos de conjuntos activos](https://en.wikipedia.org/wiki/Active-set_method) en los que la tarea fundamental es determinar cuáles restricciones son activas y cuáles inactivas en la solución. Mantiene estimaciones de conjuntos de índices de restricciones activas e inactivas que son actualizadas y realiza cambios modestos a tales conjuntos en cada paso del algoritmo.\n",
    "\n",
    "No obstante puede ser ineficiente en problemas lineales \"patológicos\" (ver [Klee-Minty cube](https://en.wikipedia.org/wiki/Klee%E2%80%93Minty_cube)) pues el tiempo para resolver tales problemas es exponencial respecto al tamaño del problema (medido como el número de variables y la cantidad de almacenamiento para los datos del problema). Para la mayoría de problemas prácticos el método símplex es mucho más eficiente que estos casos \"patológicos\" pero esto motivó la investigación y desarrollo de nuevos algoritmos con mejor desempeño.\n",
    "\n",
    "En 1984 Karmakar publicó el [algoritmo](https://en.wikipedia.org/wiki/Karmarkar%27s_algorithm) que lleva su mismo nombre que tiene una complejidad polinomial y en la práctica resultó ser eficiente. Pertenece a la clase de métodos con el nombre de puntos interiores\n",
    "```"
   ]
  },
  {
   "cell_type": "markdown",
   "metadata": {},
   "source": [
    "En los $80$'s se descubrió que muchos problemas lineales *large scale* podían ser resueltos eficientemente utilizando formulaciones y algoritmos de programación no lineal y de ecuaciones no lineales. Una característica de tales métodos era que requerían que todas las iteraciones satisfacieran las restricciones de desigualdad de forma **estricta** por lo que se les nombró como **puntos interiores**. A inicios de los $90$'s una subclase de métodos de puntos interiores conocidos con el nombre de **primal-dual** se distinguieron como las metodologías más eficientes en la práctica y probaron ser fuertes compeditores con el método símplex en problemas *large scale*.\n"
   ]
  },
  {
   "cell_type": "markdown",
   "metadata": {},
   "source": [
    "Cada iteración en el esquema de puntos interiores es costosa de calcular y realiza avance significativo a la solución en contraste con el método símplex que requiere un gran número de iteraciones no costosas. "
   ]
  },
  {
   "cell_type": "markdown",
   "metadata": {},
   "source": [
    "El método símplex geométricamente trabaja en la frontera del conjunto factible probando una secuencia de vértices hasta encontrar el óptimo:"
   ]
  },
  {
   "cell_type": "markdown",
   "metadata": {},
   "source": [
    "<img src=\"https://dl.dropboxusercontent.com/s/dpfbx6k1yn9a397/Simplex_Linear_Program_Example.png?dl=0\" heigth=\"600\" width=\"600\">"
   ]
  },
  {
   "cell_type": "markdown",
   "metadata": {},
   "source": [
    "Los métodos de puntos interiores se aproximan a la frontera del conjunto de factibilidad únicamente en el límite. Pueden aproximarse por el interior o exterior del conjunto de factibilidad pero nunca caen en la frontera del mismo:"
   ]
  },
  {
   "cell_type": "markdown",
   "metadata": {},
   "source": [
    "<img src=\"https://dl.dropboxusercontent.com/s/66gydyfpdjyqql6/Interior_Point_Method_Linear_Program_Example.png?dl=0\" heigth=\"600\" width=\"600\">"
   ]
  },
  {
   "cell_type": "markdown",
   "metadata": {},
   "source": [
    "### Introducción al método primal-dual"
   ]
  },
  {
   "cell_type": "markdown",
   "metadata": {},
   "source": [
    "Considérese el problema de programación lineal en su forma estándar:"
   ]
  },
  {
   "cell_type": "markdown",
   "metadata": {},
   "source": [
    "$$\\min c^Tx$$\n",
    "\n",
    "$$\\text{sujeto a:}$$\n",
    "\n",
    "$$Ax=b$$\n",
    "\n",
    "$$x \\geq 0$$"
   ]
  },
  {
   "cell_type": "markdown",
   "metadata": {},
   "source": [
    "donde: $A \\in \\mathbb{R}^{m \\times n}$ y se **asume** $m \\leq n$ y tiene *rank* completo por renglones y la última desigualdad se refiere a que todas las componentes del vector $x$ son mayores o iguales a cero. Por el desarrollo en {ref}`introducción a CIEO <INTCIEO>`, las soluciones del problema anterior están caracterizadas por las condiciones KKT:"
   ]
  },
  {
   "cell_type": "markdown",
   "metadata": {},
   "source": [
    "$$A^T \\nu + \\lambda - c = 0$$\n",
    "\n",
    "$$Ax = b$$\n",
    "\n",
    "$$x_i \\lambda_i = 0, i=1, \\dots, n$$\n",
    "\n",
    "$$x \\geq 0$$\n",
    "\n",
    "$$\\lambda \\geq 0$$\n",
    "\n",
    "donde: las últimas dos desigualdades se refieren que todas las componentes de los vectores son mayores o iguales a cero."
   ]
  },
  {
   "cell_type": "markdown",
   "metadata": {},
   "source": [
    "Los métodos de la clase primal-dual encuentran soluciones $(x^*, \\nu^*, \\lambda^*)$ con variantes del método de Newton para las igualdades anteriores modificando las direcciones de búsqueda y tamaños de paso de modo que las desigualdades se satisfagan de forma **estricta** en cada iteración."
   ]
  },
  {
   "cell_type": "markdown",
   "metadata": {},
   "source": [
    "La idea de los métodos de la clase primal-dual es reescribir las condiciones KKT de optimalidad anteriores mediante una función $F: \\mathbb{R}^{2n + m} \\rightarrow \\mathbb{R}^{2n+m}$ dada por:"
   ]
  },
  {
   "cell_type": "markdown",
   "metadata": {},
   "source": [
    "$$F(x, \\nu, \\lambda ) = \\left [ \\begin{array}{c} A^T \\nu + \\lambda -c \\\\ Ax - b \\\\ X \\Lambda e \\end{array} \\right ]$$\n",
    "\n",
    "\n",
    "y resolver la ecuación **no lineal** $F(x, \\nu, \\lambda )=0$ para $(x, \\lambda) \\geq 0$, donde: $X = \\text{diag}(x_1, \\dots, x_n)$, $\\Lambda = \\text{diag}(\\lambda_1, \\dots, \\lambda_n)$ y $e$ es un vector de $1$'s en $\\mathbb{R}^n$.\n",
    "\n",
    "Los métodos de la clase primal-dual producen iteraciones $(x^{(k)}, \\nu^{(k)}, \\lambda^{(k)})$ tales que $x^{(k)} > 0$ y $\\lambda^{(k)} > 0$, por esto tales métodos son considerados como puntos interiores. "
   ]
  },
  {
   "cell_type": "markdown",
   "metadata": {},
   "source": [
    "## Software para resolver problemas CIEO"
   ]
  },
  {
   "cell_type": "markdown",
   "metadata": {},
   "source": [
    "Como ejemplo de funciones, paquetes y sistemas para resolver problemas tipo *constrained inequality and equality optimization* se encuentran:\n",
    "\n",
    "* [scipy-optimize](https://docs.scipy.org/doc/scipy/reference/optimize.html), [scipy-optimize-linprog](https://docs.scipy.org/doc/scipy/reference/generated/scipy.optimize.linprog.html#scipy-optimize-linprog), [pulp](https://github.com/coin-or/pulp)\n",
    "\n",
    "* [cvxpy](https://www.cvxpy.org/), [cvx](http://cvxr.com/cvx/), [cvxr](https://cvxr.rbind.io/), [Convex](https://github.com/jump-dev/Convex.jl)\n",
    "\n",
    "* [nlopt](https://github.com/stevengj/nlopt)\n",
    "\n",
    "* [JuMP](https://github.com/jump-dev/JuMP.jl), [Optim](https://github.com/JuliaNLSolvers/Optim.jl/) cuyo *paper* está en [liga](https://joss.theoj.org/papers/10.21105/joss.00615)\n",
    "\n",
    "* [AMPL](https://ampl.com/), [AMPL Python API](https://ampl.com/api/nightly/python/), [AMPL R API](https://ampl.com/api/nightly/R/), [AMPL MATLAB API](https://ampl.com/api/nightly/matlab/)"
   ]
  },
  {
   "cell_type": "markdown",
   "metadata": {},
   "source": [
    "```{admonition} Ejercicios\n",
    ":class: tip\n",
    "\n",
    "1.Resuelve los ejercicios y preguntas de la nota.\n",
    "```\n"
   ]
  },
  {
   "cell_type": "markdown",
   "metadata": {},
   "source": [
    "**Referencias:**\n",
    "\n",
    "1. S. P. Boyd, L. Vandenberghe, Convex Optimization, Cambridge University Press, 2009.\n",
    "\n",
    "2. J. Dennis, R. B. Schnabel, Numerical Methods for Unconstrained Optimization and Nonlinear Equations, SIAM, 1996.\n",
    "\n",
    "3. M. S. Bazaraa, J. J. Jarvis, H. D. Sherali, Linear Programming and Network Flows, Wiley, 2010.\n",
    "\n",
    "4. J. Nocedal, S. J. Wright, Numerical Optimization, Springer, 2006."
   ]
  }
 ],
 "metadata": {
  "kernelspec": {
   "display_name": "Python 3",
   "language": "python",
   "name": "python3"
  },
  "language_info": {
   "codemirror_mode": {
    "name": "ipython",
    "version": 3
   },
   "file_extension": ".py",
   "mimetype": "text/x-python",
   "name": "python",
   "nbconvert_exporter": "python",
   "pygments_lexer": "ipython3",
   "version": "3.8.5"
  }
 },
 "nbformat": 4,
 "nbformat_minor": 4
}
